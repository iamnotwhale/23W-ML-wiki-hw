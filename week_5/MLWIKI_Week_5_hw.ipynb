{
 "cells": [
  {
   "cell_type": "markdown",
   "metadata": {
    "id": "rz3aXAo-9kHX"
   },
   "source": [
    "#과제"
   ]
  },
  {
   "cell_type": "markdown",
   "metadata": {
    "id": "2CAEuTWj9ot9"
   },
   "source": [
    "0. 모든 코드를 필사하라. (올리브영 데이터 크롤링 코드도 필사해야 하기에 로컬에서 주피터 노트북으로 작업하기 권장)"
   ]
  },
  {
   "cell_type": "code",
   "execution_count": 1,
   "metadata": {},
   "outputs": [
    {
     "data": {
      "text/plain": [
       "['I', 'n', 'f', 'e', 'c', 't', 'e', 'd']"
      ]
     },
     "execution_count": 1,
     "metadata": {},
     "output_type": "execute_result"
    }
   ],
   "source": [
    "#정규표현식\n",
    "\n",
    "import re #정규표현식을 파이썬에서 활용할 수 있는 모듈\n",
    "#알파벳과 숫자로 혼합된 문자열에서 영어만추출해보자\n",
    "\n",
    "rule = \"[a-zA-Z]\" #소문자 알파벳 또는 대문자 알파벳\n",
    "\n",
    "p = re.compile(rule) #정규식 컴파일->객체 생성\n",
    "test_str = \"Infected4098\"\n",
    "\n",
    "p.findall(test_str) #findall: 정규식과 매치되는 모든 문자를 리턴"
   ]
  },
  {
   "cell_type": "code",
   "execution_count": 2,
   "metadata": {},
   "outputs": [
    {
     "name": "stdout",
     "output_type": "stream",
     "text": [
      "<re.Match object; span=(0, 1), match='이'> \n",
      "\n",
      "None\n"
     ]
    }
   ],
   "source": [
    "#특정 문자열이 매치되는 케이스가 있는지만 찾아보려면 match 사용\n",
    "#사용자 아이디에 한글이 포함되어 있는지 확인\n",
    "\n",
    "true_str = \"이용준123\"\n",
    "false_str = \"Infected4098\"\n",
    "\n",
    "rule = \"[ㄱ-ㅎ가-힣ㅏ-ㅣ]\" #자음, 모음 등 한글 모두 처리할 수 있는 문자객체 생성\n",
    "\n",
    "p = re.compile(rule)\n",
    "print(p.match(true_str), \"\\n\")\n",
    "print(p.match(false_str))"
   ]
  },
  {
   "cell_type": "code",
   "execution_count": 3,
   "metadata": {},
   "outputs": [
    {
     "data": {
      "text/plain": [
       "' 안녀 세용  죄송합니다'"
      ]
     },
     "execution_count": 3,
     "metadata": {},
     "output_type": "execute_result"
    }
   ],
   "source": [
    "#오타많은 한글 데이터에서 자음이나 모음은 제외하고 제대로 된 말만 추출하기\n",
    "#제외할 말들의 정규식 생성\n",
    "\n",
    "rule = \"[ㄱ-ㅎㅏ-ㅣ]\"\n",
    "\n",
    "drunk_man = \"ㅎㅎ 안녀ㅇ ㅎㅏ세용 ㅋㅎㅋㅎ 죄송합니다ㅏ\"\n",
    "\n",
    "re.compile(rule).sub(\"\", drunk_man) #sub: 해당 정규식에 해당하는 말들 대체 - 인자로 \"\" (빈문자열) 넣었으니 삭제하겠다는 뜻"
   ]
  },
  {
   "cell_type": "code",
   "execution_count": 4,
   "metadata": {},
   "outputs": [],
   "source": [
    "#상용 정규식 모음\n",
    "\n",
    "#공백 없는 숫자와 문자\n",
    "\n",
    "numstr = \"^[a-zA-Z0-9]*$\"\n",
    "\n",
    "#숫자\n",
    "\n",
    "num, num = \"\\d\", \"[0-9]\"\n",
    "\n",
    "#숫자가 아닌 것\n",
    "notnum = \"\\D\"\n",
    "\n",
    "#탭\n",
    "\n",
    "tab = \"\\t\"\n",
    "\n",
    "#전화번호(010-1234-5678)\n",
    "\n",
    "digits = \"^\\d{3}-\\d{3,4}-\\d{4}$\""
   ]
  },
  {
   "cell_type": "code",
   "execution_count": 5,
   "metadata": {},
   "outputs": [
    {
     "data": {
      "text/plain": [
       "'https://www.koreaexim.go.kr/site/program/financial/exchangeJSON?authkey=Pm4I0q0fXqevyKu4lOJVmtRfpw28SncX&searchdate=20180102&data=AP01'"
      ]
     },
     "execution_count": 5,
     "metadata": {},
     "output_type": "execute_result"
    }
   ],
   "source": [
    "#환율 데이터 파싱\n",
    "#authkey에 인증키를 string 형태로 입력하고, searchdate는 검색을 요청하고자 하는 날짜, data는 string 형태로 원하는 데이터를 불러올 수 있게 되어 있다.\n",
    "#2018년 1월 2일의 환율에 대해 알아보자.\n",
    "\n",
    "key_test = \"Pm4I0q0fXqevyKu4lOJVmtRfpw28SncX\" #활용신청(request)를 해 발급받은 인증 키\n",
    "searchdate_test = \"20180102\"\n",
    "data_test = \"AP01\"\n",
    "\n",
    "request_url = \"https://www.koreaexim.go.kr/site/program/financial/exchangeJSON?authkey=\"+str(key_test)+\"&searchdate=\"+str(searchdate_test)+\"&data=\"+str(data_test)\n",
    "request_url"
   ]
  },
  {
   "cell_type": "code",
   "execution_count": 6,
   "metadata": {},
   "outputs": [
    {
     "data": {
      "text/plain": [
       "[{'result': 1,\n",
       "  'cur_unit': 'AED',\n",
       "  'ttb': '288.78',\n",
       "  'tts': '294.61',\n",
       "  'deal_bas_r': '291.7',\n",
       "  'bkpr': '291',\n",
       "  'yy_efee_r': '0',\n",
       "  'ten_dd_efee_r': '0',\n",
       "  'kftc_bkpr': '291',\n",
       "  'kftc_deal_bas_r': '291.7',\n",
       "  'cur_nm': '아랍에미리트 디르함'},\n",
       " {'result': 1,\n",
       "  'cur_unit': 'ATS',\n",
       "  'ttb': '0',\n",
       "  'tts': '0',\n",
       "  'deal_bas_r': '93.52',\n",
       "  'bkpr': '0',\n",
       "  'yy_efee_r': '0',\n",
       "  'ten_dd_efee_r': '0',\n",
       "  'kftc_bkpr': '0',\n",
       "  'kftc_deal_bas_r': '93.52',\n",
       "  'cur_nm': '오스트리아 실링'},\n",
       " {'result': 1,\n",
       "  'cur_unit': 'AUD',\n",
       "  'ttb': '827.91',\n",
       "  'tts': '844.64',\n",
       "  'deal_bas_r': '836.28',\n",
       "  'bkpr': '836',\n",
       "  'yy_efee_r': '0',\n",
       "  'ten_dd_efee_r': '0',\n",
       "  'kftc_bkpr': '836',\n",
       "  'kftc_deal_bas_r': '836.28',\n",
       "  'cur_nm': '호주 달러'},\n",
       " {'result': 1,\n",
       "  'cur_unit': 'BEF',\n",
       "  'ttb': '0',\n",
       "  'tts': '0',\n",
       "  'deal_bas_r': '31.9',\n",
       "  'bkpr': '0',\n",
       "  'yy_efee_r': '0',\n",
       "  'ten_dd_efee_r': '0',\n",
       "  'kftc_bkpr': '0',\n",
       "  'kftc_deal_bas_r': '31.9',\n",
       "  'cur_nm': '벨기에 프랑'},\n",
       " {'result': 1,\n",
       "  'cur_unit': 'BHD',\n",
       "  'ttb': '2,811.48',\n",
       "  'tts': '2,868.27',\n",
       "  'deal_bas_r': '2,839.88',\n",
       "  'bkpr': '2,839',\n",
       "  'yy_efee_r': '0',\n",
       "  'ten_dd_efee_r': '0',\n",
       "  'kftc_bkpr': '2,839',\n",
       "  'kftc_deal_bas_r': '2,839.88',\n",
       "  'cur_nm': '바레인 디나르'},\n",
       " {'result': 1,\n",
       "  'cur_unit': 'CAD',\n",
       "  'ttb': '844.72',\n",
       "  'tts': '861.79',\n",
       "  'deal_bas_r': '853.26',\n",
       "  'bkpr': '853',\n",
       "  'yy_efee_r': '0',\n",
       "  'ten_dd_efee_r': '0',\n",
       "  'kftc_bkpr': '853',\n",
       "  'kftc_deal_bas_r': '853.26',\n",
       "  'cur_nm': '캐나다 달러'},\n",
       " {'result': 1,\n",
       "  'cur_unit': 'CHF',\n",
       "  'ttb': '1,088.44',\n",
       "  'tts': '1,110.43',\n",
       "  'deal_bas_r': '1,099.44',\n",
       "  'bkpr': '1,099',\n",
       "  'yy_efee_r': '0',\n",
       "  'ten_dd_efee_r': '0',\n",
       "  'kftc_bkpr': '1,099',\n",
       "  'kftc_deal_bas_r': '1,099.44',\n",
       "  'cur_nm': '스위스 프랑'},\n",
       " {'result': 1,\n",
       "  'cur_unit': 'CNH',\n",
       "  'ttb': '162.01',\n",
       "  'tts': '165.28',\n",
       "  'deal_bas_r': '163.65',\n",
       "  'bkpr': '163',\n",
       "  'yy_efee_r': '0',\n",
       "  'ten_dd_efee_r': '0',\n",
       "  'kftc_bkpr': '163',\n",
       "  'kftc_deal_bas_r': '163.65',\n",
       "  'cur_nm': '위안화'},\n",
       " {'result': 1,\n",
       "  'cur_unit': 'DEM',\n",
       "  'ttb': '0',\n",
       "  'tts': '0',\n",
       "  'deal_bas_r': '657.98',\n",
       "  'bkpr': '0',\n",
       "  'yy_efee_r': '0',\n",
       "  'ten_dd_efee_r': '0',\n",
       "  'kftc_bkpr': '0',\n",
       "  'kftc_deal_bas_r': '657.98',\n",
       "  'cur_nm': '독일 마르크'},\n",
       " {'result': 1,\n",
       "  'cur_unit': 'DKK',\n",
       "  'ttb': '171.14',\n",
       "  'tts': '174.59',\n",
       "  'deal_bas_r': '172.87',\n",
       "  'bkpr': '172',\n",
       "  'yy_efee_r': '0',\n",
       "  'ten_dd_efee_r': '0',\n",
       "  'kftc_bkpr': '172',\n",
       "  'kftc_deal_bas_r': '172.87',\n",
       "  'cur_nm': '덴마아크 크로네'},\n",
       " {'result': 1,\n",
       "  'cur_unit': 'ESP(100)',\n",
       "  'ttb': '0',\n",
       "  'tts': '0',\n",
       "  'deal_bas_r': '773',\n",
       "  'bkpr': '0',\n",
       "  'yy_efee_r': '0',\n",
       "  'ten_dd_efee_r': '0',\n",
       "  'kftc_bkpr': '0',\n",
       "  'kftc_deal_bas_r': '773',\n",
       "  'cur_nm': '스페인 페세타'},\n",
       " {'result': 1,\n",
       "  'cur_unit': 'EUR',\n",
       "  'ttb': '1,274.04',\n",
       "  'tts': '1,299.77',\n",
       "  'deal_bas_r': '1,286.91',\n",
       "  'bkpr': '1,286',\n",
       "  'yy_efee_r': '0',\n",
       "  'ten_dd_efee_r': '0',\n",
       "  'kftc_bkpr': '1,286',\n",
       "  'kftc_deal_bas_r': '1,286.91',\n",
       "  'cur_nm': '유로'},\n",
       " {'result': 1,\n",
       "  'cur_unit': 'FIM',\n",
       "  'ttb': '0',\n",
       "  'tts': '0',\n",
       "  'deal_bas_r': '216.44',\n",
       "  'bkpr': '0',\n",
       "  'yy_efee_r': '0',\n",
       "  'ten_dd_efee_r': '0',\n",
       "  'kftc_bkpr': '0',\n",
       "  'kftc_deal_bas_r': '216.44',\n",
       "  'cur_nm': '핀란드 마르카'},\n",
       " {'result': 1,\n",
       "  'cur_unit': 'FRF',\n",
       "  'ttb': '0',\n",
       "  'tts': '0',\n",
       "  'deal_bas_r': '196.18',\n",
       "  'bkpr': '0',\n",
       "  'yy_efee_r': '0',\n",
       "  'ten_dd_efee_r': '0',\n",
       "  'kftc_bkpr': '0',\n",
       "  'kftc_deal_bas_r': '196.18',\n",
       "  'cur_nm': '프랑스 프랑'},\n",
       " {'result': 1,\n",
       "  'cur_unit': 'GBP',\n",
       "  'ttb': '1,432.82',\n",
       "  'tts': '1,461.77',\n",
       "  'deal_bas_r': '1,447.3',\n",
       "  'bkpr': '1,447',\n",
       "  'yy_efee_r': '0',\n",
       "  'ten_dd_efee_r': '0',\n",
       "  'kftc_bkpr': '1,447',\n",
       "  'kftc_deal_bas_r': '1,447.3',\n",
       "  'cur_nm': '영국 파운드'},\n",
       " {'result': 1,\n",
       "  'cur_unit': 'HKD',\n",
       "  'ttb': '135.75',\n",
       "  'tts': '138.5',\n",
       "  'deal_bas_r': '137.13',\n",
       "  'bkpr': '137',\n",
       "  'yy_efee_r': '0',\n",
       "  'ten_dd_efee_r': '0',\n",
       "  'kftc_bkpr': '137',\n",
       "  'kftc_deal_bas_r': '137.13',\n",
       "  'cur_nm': '홍콩 달러'},\n",
       " {'result': 1,\n",
       "  'cur_unit': 'IDR(100)',\n",
       "  'ttb': '7.82',\n",
       "  'tts': '7.97',\n",
       "  'deal_bas_r': '7.9',\n",
       "  'bkpr': '7',\n",
       "  'yy_efee_r': '0',\n",
       "  'ten_dd_efee_r': '0',\n",
       "  'kftc_bkpr': '7',\n",
       "  'kftc_deal_bas_r': '7.9',\n",
       "  'cur_nm': '인도네시아 루피아'},\n",
       " {'result': 1,\n",
       "  'cur_unit': 'ITL(100)',\n",
       "  'ttb': '0',\n",
       "  'tts': '0',\n",
       "  'deal_bas_r': '66.46',\n",
       "  'bkpr': '0',\n",
       "  'yy_efee_r': '0',\n",
       "  'ten_dd_efee_r': '0',\n",
       "  'kftc_bkpr': '0',\n",
       "  'kftc_deal_bas_r': '66.46',\n",
       "  'cur_nm': '이태리 리라'},\n",
       " {'result': 1,\n",
       "  'cur_unit': 'JPY(100)',\n",
       "  'ttb': '941.53',\n",
       "  'tts': '960.56',\n",
       "  'deal_bas_r': '951.05',\n",
       "  'bkpr': '951',\n",
       "  'yy_efee_r': '0.96833',\n",
       "  'ten_dd_efee_r': '0.0242',\n",
       "  'kftc_bkpr': '951',\n",
       "  'kftc_deal_bas_r': '951.05',\n",
       "  'cur_nm': '일본 옌'},\n",
       " {'result': 1,\n",
       "  'cur_unit': 'KRW',\n",
       "  'ttb': '0',\n",
       "  'tts': '0',\n",
       "  'deal_bas_r': '1',\n",
       "  'bkpr': '1',\n",
       "  'yy_efee_r': '0',\n",
       "  'ten_dd_efee_r': '0',\n",
       "  'kftc_bkpr': '1',\n",
       "  'kftc_deal_bas_r': '1',\n",
       "  'cur_nm': '한국 원'},\n",
       " {'result': 1,\n",
       "  'cur_unit': 'KWD',\n",
       "  'ttb': '3,509.87',\n",
       "  'tts': '3,580.78',\n",
       "  'deal_bas_r': '3,545.33',\n",
       "  'bkpr': '3,545',\n",
       "  'yy_efee_r': '0',\n",
       "  'ten_dd_efee_r': '0',\n",
       "  'kftc_bkpr': '3,545',\n",
       "  'kftc_deal_bas_r': '3,545.33',\n",
       "  'cur_nm': '쿠웨이트 디나르'},\n",
       " {'result': 1,\n",
       "  'cur_unit': 'MYR',\n",
       "  'ttb': '262.09',\n",
       "  'tts': '267.38',\n",
       "  'deal_bas_r': '264.74',\n",
       "  'bkpr': '264',\n",
       "  'yy_efee_r': '0',\n",
       "  'ten_dd_efee_r': '0',\n",
       "  'kftc_bkpr': '264',\n",
       "  'kftc_deal_bas_r': '264.74',\n",
       "  'cur_nm': '말레이지아 링기트'},\n",
       " {'result': 1,\n",
       "  'cur_unit': 'NLG',\n",
       "  'ttb': '0',\n",
       "  'tts': '0',\n",
       "  'deal_bas_r': '583.97',\n",
       "  'bkpr': '0',\n",
       "  'yy_efee_r': '0',\n",
       "  'ten_dd_efee_r': '0',\n",
       "  'kftc_bkpr': '0',\n",
       "  'kftc_deal_bas_r': '583.97',\n",
       "  'cur_nm': '네델란드 길더'},\n",
       " {'result': 1,\n",
       "  'cur_unit': 'NOK',\n",
       "  'ttb': '129.44',\n",
       "  'tts': '132.05',\n",
       "  'deal_bas_r': '130.75',\n",
       "  'bkpr': '130',\n",
       "  'yy_efee_r': '0',\n",
       "  'ten_dd_efee_r': '0',\n",
       "  'kftc_bkpr': '130',\n",
       "  'kftc_deal_bas_r': '130.75',\n",
       "  'cur_nm': '노르웨이 크로네'},\n",
       " {'result': 1,\n",
       "  'cur_unit': 'NZD',\n",
       "  'ttb': '752.76',\n",
       "  'tts': '767.97',\n",
       "  'deal_bas_r': '760.37',\n",
       "  'bkpr': '760',\n",
       "  'yy_efee_r': '0',\n",
       "  'ten_dd_efee_r': '0',\n",
       "  'kftc_bkpr': '760',\n",
       "  'kftc_deal_bas_r': '760.37',\n",
       "  'cur_nm': '뉴질랜드 달러'},\n",
       " {'result': 1,\n",
       "  'cur_unit': 'SAR',\n",
       "  'ttb': '282.84',\n",
       "  'tts': '288.55',\n",
       "  'deal_bas_r': '285.7',\n",
       "  'bkpr': '285',\n",
       "  'yy_efee_r': '0',\n",
       "  'ten_dd_efee_r': '0',\n",
       "  'kftc_bkpr': '285',\n",
       "  'kftc_deal_bas_r': '285.7',\n",
       "  'cur_nm': '사우디 리얄'},\n",
       " {'result': 1,\n",
       "  'cur_unit': 'SEK',\n",
       "  'ttb': '129.3',\n",
       "  'tts': '131.91',\n",
       "  'deal_bas_r': '130.61',\n",
       "  'bkpr': '130',\n",
       "  'yy_efee_r': '0',\n",
       "  'ten_dd_efee_r': '0',\n",
       "  'kftc_bkpr': '130',\n",
       "  'kftc_deal_bas_r': '130.61',\n",
       "  'cur_nm': '스웨덴 크로나'},\n",
       " {'result': 1,\n",
       "  'cur_unit': 'SGD',\n",
       "  'ttb': '793.06',\n",
       "  'tts': '809.09',\n",
       "  'deal_bas_r': '801.08',\n",
       "  'bkpr': '801',\n",
       "  'yy_efee_r': '0',\n",
       "  'ten_dd_efee_r': '0',\n",
       "  'kftc_bkpr': '801',\n",
       "  'kftc_deal_bas_r': '801.08',\n",
       "  'cur_nm': '싱가포르 달러'},\n",
       " {'result': 1,\n",
       "  'cur_unit': 'THB',\n",
       "  'ttb': '32.57',\n",
       "  'tts': '33.22',\n",
       "  'deal_bas_r': '32.9',\n",
       "  'bkpr': '32',\n",
       "  'yy_efee_r': '0',\n",
       "  'ten_dd_efee_r': '0',\n",
       "  'kftc_bkpr': '32',\n",
       "  'kftc_deal_bas_r': '32.9',\n",
       "  'cur_nm': '태국 바트'},\n",
       " {'result': 1,\n",
       "  'cur_unit': 'USD',\n",
       "  'ttb': '1,056.23',\n",
       "  'tts': '1,077.56',\n",
       "  'deal_bas_r': '1,066.9',\n",
       "  'bkpr': '1,066',\n",
       "  'yy_efee_r': '2.69465',\n",
       "  'ten_dd_efee_r': '0.07485',\n",
       "  'kftc_bkpr': '1,071',\n",
       "  'kftc_deal_bas_r': '1,071.4',\n",
       "  'cur_nm': '미국 달러'},\n",
       " {'result': 1,\n",
       "  'cur_unit': 'XOF',\n",
       "  'ttb': '0',\n",
       "  'tts': '0',\n",
       "  'deal_bas_r': '1.9618',\n",
       "  'bkpr': '0',\n",
       "  'yy_efee_r': '0',\n",
       "  'ten_dd_efee_r': '0',\n",
       "  'kftc_bkpr': '0',\n",
       "  'kftc_deal_bas_r': '1.9618',\n",
       "  'cur_nm': '씨에프에이 프랑(비씨에이오)'}]"
      ]
     },
     "execution_count": 6,
     "metadata": {},
     "output_type": "execute_result"
    }
   ],
   "source": [
    "import numpy as np\n",
    "import pandas as pd\n",
    "import requests #정적 크롤링에서 정보를 요청할 수 있게 해주는 모듈\n",
    "from bs4 import BeautifulSoup as bs #제공받은 정보를 마크업 언어의 형태로 변환해 파싱할 수 있게 해주는 모듈\n",
    "import json #마크업 언어의 일종 - 쉽고 직관적\n",
    "\n",
    "\"\"\"\n",
    "json은 object, array, key-value의 세 가지로 구성된 데이터 저장 마크업언어\n",
    "object는 {} - 중괄호로 묶인 정보\n",
    "array는 [] - 대괄호로 묶인 정보\n",
    "key-value는 딕셔너리의 키와 값과 같은 형태의 데이터를 의미\n",
    "\"\"\"\n",
    "\n",
    "response = requests.get(request_url) #url을 입력한 뒤 requests.get(url)을 해 정보를 제공받음\n",
    "\n",
    "text = response.text #제공받은 데이터를 text로 변환\n",
    "\n",
    "json_text = json.loads(text) #텍스트로 변환한 데이터를 json형태로 변환\n",
    "\n",
    "#아래의 json파일은 array는 없지만 여러 object와 key-value값이 혼재한 형식\n",
    "json_text"
   ]
  },
  {
   "cell_type": "code",
   "execution_count": 7,
   "metadata": {},
   "outputs": [
    {
     "data": {
      "text/plain": [
       "[{'result': 1,\n",
       "  'cur_unit': 'AED',\n",
       "  'ttb': '288.78',\n",
       "  'tts': '294.61',\n",
       "  'deal_bas_r': '291.7',\n",
       "  'bkpr': '291',\n",
       "  'yy_efee_r': '0',\n",
       "  'ten_dd_efee_r': '0',\n",
       "  'kftc_bkpr': '291',\n",
       "  'kftc_deal_bas_r': '291.7',\n",
       "  'cur_nm': '아랍에미리트 디르함'},\n",
       " {'result': 1,\n",
       "  'cur_unit': 'ATS',\n",
       "  'ttb': '0',\n",
       "  'tts': '0',\n",
       "  'deal_bas_r': '93.52',\n",
       "  'bkpr': '0',\n",
       "  'yy_efee_r': '0',\n",
       "  'ten_dd_efee_r': '0',\n",
       "  'kftc_bkpr': '0',\n",
       "  'kftc_deal_bas_r': '93.52',\n",
       "  'cur_nm': '오스트리아 실링'},\n",
       " {'result': 1,\n",
       "  'cur_unit': 'AUD',\n",
       "  'ttb': '827.91',\n",
       "  'tts': '844.64',\n",
       "  'deal_bas_r': '836.28',\n",
       "  'bkpr': '836',\n",
       "  'yy_efee_r': '0',\n",
       "  'ten_dd_efee_r': '0',\n",
       "  'kftc_bkpr': '836',\n",
       "  'kftc_deal_bas_r': '836.28',\n",
       "  'cur_nm': '호주 달러'},\n",
       " {'result': 1,\n",
       "  'cur_unit': 'BEF',\n",
       "  'ttb': '0',\n",
       "  'tts': '0',\n",
       "  'deal_bas_r': '31.9',\n",
       "  'bkpr': '0',\n",
       "  'yy_efee_r': '0',\n",
       "  'ten_dd_efee_r': '0',\n",
       "  'kftc_bkpr': '0',\n",
       "  'kftc_deal_bas_r': '31.9',\n",
       "  'cur_nm': '벨기에 프랑'},\n",
       " {'result': 1,\n",
       "  'cur_unit': 'BHD',\n",
       "  'ttb': '2,811.48',\n",
       "  'tts': '2,868.27',\n",
       "  'deal_bas_r': '2,839.88',\n",
       "  'bkpr': '2,839',\n",
       "  'yy_efee_r': '0',\n",
       "  'ten_dd_efee_r': '0',\n",
       "  'kftc_bkpr': '2,839',\n",
       "  'kftc_deal_bas_r': '2,839.88',\n",
       "  'cur_nm': '바레인 디나르'},\n",
       " {'result': 1,\n",
       "  'cur_unit': 'CAD',\n",
       "  'ttb': '844.72',\n",
       "  'tts': '861.79',\n",
       "  'deal_bas_r': '853.26',\n",
       "  'bkpr': '853',\n",
       "  'yy_efee_r': '0',\n",
       "  'ten_dd_efee_r': '0',\n",
       "  'kftc_bkpr': '853',\n",
       "  'kftc_deal_bas_r': '853.26',\n",
       "  'cur_nm': '캐나다 달러'},\n",
       " {'result': 1,\n",
       "  'cur_unit': 'CHF',\n",
       "  'ttb': '1,088.44',\n",
       "  'tts': '1,110.43',\n",
       "  'deal_bas_r': '1,099.44',\n",
       "  'bkpr': '1,099',\n",
       "  'yy_efee_r': '0',\n",
       "  'ten_dd_efee_r': '0',\n",
       "  'kftc_bkpr': '1,099',\n",
       "  'kftc_deal_bas_r': '1,099.44',\n",
       "  'cur_nm': '스위스 프랑'},\n",
       " {'result': 1,\n",
       "  'cur_unit': 'CNH',\n",
       "  'ttb': '162.01',\n",
       "  'tts': '165.28',\n",
       "  'deal_bas_r': '163.65',\n",
       "  'bkpr': '163',\n",
       "  'yy_efee_r': '0',\n",
       "  'ten_dd_efee_r': '0',\n",
       "  'kftc_bkpr': '163',\n",
       "  'kftc_deal_bas_r': '163.65',\n",
       "  'cur_nm': '위안화'},\n",
       " {'result': 1,\n",
       "  'cur_unit': 'DEM',\n",
       "  'ttb': '0',\n",
       "  'tts': '0',\n",
       "  'deal_bas_r': '657.98',\n",
       "  'bkpr': '0',\n",
       "  'yy_efee_r': '0',\n",
       "  'ten_dd_efee_r': '0',\n",
       "  'kftc_bkpr': '0',\n",
       "  'kftc_deal_bas_r': '657.98',\n",
       "  'cur_nm': '독일 마르크'},\n",
       " {'result': 1,\n",
       "  'cur_unit': 'DKK',\n",
       "  'ttb': '171.14',\n",
       "  'tts': '174.59',\n",
       "  'deal_bas_r': '172.87',\n",
       "  'bkpr': '172',\n",
       "  'yy_efee_r': '0',\n",
       "  'ten_dd_efee_r': '0',\n",
       "  'kftc_bkpr': '172',\n",
       "  'kftc_deal_bas_r': '172.87',\n",
       "  'cur_nm': '덴마아크 크로네'},\n",
       " {'result': 1,\n",
       "  'cur_unit': 'ESP(100)',\n",
       "  'ttb': '0',\n",
       "  'tts': '0',\n",
       "  'deal_bas_r': '773',\n",
       "  'bkpr': '0',\n",
       "  'yy_efee_r': '0',\n",
       "  'ten_dd_efee_r': '0',\n",
       "  'kftc_bkpr': '0',\n",
       "  'kftc_deal_bas_r': '773',\n",
       "  'cur_nm': '스페인 페세타'},\n",
       " {'result': 1,\n",
       "  'cur_unit': 'EUR',\n",
       "  'ttb': '1,274.04',\n",
       "  'tts': '1,299.77',\n",
       "  'deal_bas_r': '1,286.91',\n",
       "  'bkpr': '1,286',\n",
       "  'yy_efee_r': '0',\n",
       "  'ten_dd_efee_r': '0',\n",
       "  'kftc_bkpr': '1,286',\n",
       "  'kftc_deal_bas_r': '1,286.91',\n",
       "  'cur_nm': '유로'},\n",
       " {'result': 1,\n",
       "  'cur_unit': 'FIM',\n",
       "  'ttb': '0',\n",
       "  'tts': '0',\n",
       "  'deal_bas_r': '216.44',\n",
       "  'bkpr': '0',\n",
       "  'yy_efee_r': '0',\n",
       "  'ten_dd_efee_r': '0',\n",
       "  'kftc_bkpr': '0',\n",
       "  'kftc_deal_bas_r': '216.44',\n",
       "  'cur_nm': '핀란드 마르카'},\n",
       " {'result': 1,\n",
       "  'cur_unit': 'FRF',\n",
       "  'ttb': '0',\n",
       "  'tts': '0',\n",
       "  'deal_bas_r': '196.18',\n",
       "  'bkpr': '0',\n",
       "  'yy_efee_r': '0',\n",
       "  'ten_dd_efee_r': '0',\n",
       "  'kftc_bkpr': '0',\n",
       "  'kftc_deal_bas_r': '196.18',\n",
       "  'cur_nm': '프랑스 프랑'},\n",
       " {'result': 1,\n",
       "  'cur_unit': 'GBP',\n",
       "  'ttb': '1,432.82',\n",
       "  'tts': '1,461.77',\n",
       "  'deal_bas_r': '1,447.3',\n",
       "  'bkpr': '1,447',\n",
       "  'yy_efee_r': '0',\n",
       "  'ten_dd_efee_r': '0',\n",
       "  'kftc_bkpr': '1,447',\n",
       "  'kftc_deal_bas_r': '1,447.3',\n",
       "  'cur_nm': '영국 파운드'},\n",
       " {'result': 1,\n",
       "  'cur_unit': 'HKD',\n",
       "  'ttb': '135.75',\n",
       "  'tts': '138.5',\n",
       "  'deal_bas_r': '137.13',\n",
       "  'bkpr': '137',\n",
       "  'yy_efee_r': '0',\n",
       "  'ten_dd_efee_r': '0',\n",
       "  'kftc_bkpr': '137',\n",
       "  'kftc_deal_bas_r': '137.13',\n",
       "  'cur_nm': '홍콩 달러'},\n",
       " {'result': 1,\n",
       "  'cur_unit': 'IDR(100)',\n",
       "  'ttb': '7.82',\n",
       "  'tts': '7.97',\n",
       "  'deal_bas_r': '7.9',\n",
       "  'bkpr': '7',\n",
       "  'yy_efee_r': '0',\n",
       "  'ten_dd_efee_r': '0',\n",
       "  'kftc_bkpr': '7',\n",
       "  'kftc_deal_bas_r': '7.9',\n",
       "  'cur_nm': '인도네시아 루피아'},\n",
       " {'result': 1,\n",
       "  'cur_unit': 'ITL(100)',\n",
       "  'ttb': '0',\n",
       "  'tts': '0',\n",
       "  'deal_bas_r': '66.46',\n",
       "  'bkpr': '0',\n",
       "  'yy_efee_r': '0',\n",
       "  'ten_dd_efee_r': '0',\n",
       "  'kftc_bkpr': '0',\n",
       "  'kftc_deal_bas_r': '66.46',\n",
       "  'cur_nm': '이태리 리라'},\n",
       " {'result': 1,\n",
       "  'cur_unit': 'JPY(100)',\n",
       "  'ttb': '941.53',\n",
       "  'tts': '960.56',\n",
       "  'deal_bas_r': '951.05',\n",
       "  'bkpr': '951',\n",
       "  'yy_efee_r': '0.96833',\n",
       "  'ten_dd_efee_r': '0.0242',\n",
       "  'kftc_bkpr': '951',\n",
       "  'kftc_deal_bas_r': '951.05',\n",
       "  'cur_nm': '일본 옌'},\n",
       " {'result': 1,\n",
       "  'cur_unit': 'KRW',\n",
       "  'ttb': '0',\n",
       "  'tts': '0',\n",
       "  'deal_bas_r': '1',\n",
       "  'bkpr': '1',\n",
       "  'yy_efee_r': '0',\n",
       "  'ten_dd_efee_r': '0',\n",
       "  'kftc_bkpr': '1',\n",
       "  'kftc_deal_bas_r': '1',\n",
       "  'cur_nm': '한국 원'},\n",
       " {'result': 1,\n",
       "  'cur_unit': 'KWD',\n",
       "  'ttb': '3,509.87',\n",
       "  'tts': '3,580.78',\n",
       "  'deal_bas_r': '3,545.33',\n",
       "  'bkpr': '3,545',\n",
       "  'yy_efee_r': '0',\n",
       "  'ten_dd_efee_r': '0',\n",
       "  'kftc_bkpr': '3,545',\n",
       "  'kftc_deal_bas_r': '3,545.33',\n",
       "  'cur_nm': '쿠웨이트 디나르'},\n",
       " {'result': 1,\n",
       "  'cur_unit': 'MYR',\n",
       "  'ttb': '262.09',\n",
       "  'tts': '267.38',\n",
       "  'deal_bas_r': '264.74',\n",
       "  'bkpr': '264',\n",
       "  'yy_efee_r': '0',\n",
       "  'ten_dd_efee_r': '0',\n",
       "  'kftc_bkpr': '264',\n",
       "  'kftc_deal_bas_r': '264.74',\n",
       "  'cur_nm': '말레이지아 링기트'},\n",
       " {'result': 1,\n",
       "  'cur_unit': 'NLG',\n",
       "  'ttb': '0',\n",
       "  'tts': '0',\n",
       "  'deal_bas_r': '583.97',\n",
       "  'bkpr': '0',\n",
       "  'yy_efee_r': '0',\n",
       "  'ten_dd_efee_r': '0',\n",
       "  'kftc_bkpr': '0',\n",
       "  'kftc_deal_bas_r': '583.97',\n",
       "  'cur_nm': '네델란드 길더'},\n",
       " {'result': 1,\n",
       "  'cur_unit': 'NOK',\n",
       "  'ttb': '129.44',\n",
       "  'tts': '132.05',\n",
       "  'deal_bas_r': '130.75',\n",
       "  'bkpr': '130',\n",
       "  'yy_efee_r': '0',\n",
       "  'ten_dd_efee_r': '0',\n",
       "  'kftc_bkpr': '130',\n",
       "  'kftc_deal_bas_r': '130.75',\n",
       "  'cur_nm': '노르웨이 크로네'},\n",
       " {'result': 1,\n",
       "  'cur_unit': 'NZD',\n",
       "  'ttb': '752.76',\n",
       "  'tts': '767.97',\n",
       "  'deal_bas_r': '760.37',\n",
       "  'bkpr': '760',\n",
       "  'yy_efee_r': '0',\n",
       "  'ten_dd_efee_r': '0',\n",
       "  'kftc_bkpr': '760',\n",
       "  'kftc_deal_bas_r': '760.37',\n",
       "  'cur_nm': '뉴질랜드 달러'},\n",
       " {'result': 1,\n",
       "  'cur_unit': 'SAR',\n",
       "  'ttb': '282.84',\n",
       "  'tts': '288.55',\n",
       "  'deal_bas_r': '285.7',\n",
       "  'bkpr': '285',\n",
       "  'yy_efee_r': '0',\n",
       "  'ten_dd_efee_r': '0',\n",
       "  'kftc_bkpr': '285',\n",
       "  'kftc_deal_bas_r': '285.7',\n",
       "  'cur_nm': '사우디 리얄'},\n",
       " {'result': 1,\n",
       "  'cur_unit': 'SEK',\n",
       "  'ttb': '129.3',\n",
       "  'tts': '131.91',\n",
       "  'deal_bas_r': '130.61',\n",
       "  'bkpr': '130',\n",
       "  'yy_efee_r': '0',\n",
       "  'ten_dd_efee_r': '0',\n",
       "  'kftc_bkpr': '130',\n",
       "  'kftc_deal_bas_r': '130.61',\n",
       "  'cur_nm': '스웨덴 크로나'},\n",
       " {'result': 1,\n",
       "  'cur_unit': 'SGD',\n",
       "  'ttb': '793.06',\n",
       "  'tts': '809.09',\n",
       "  'deal_bas_r': '801.08',\n",
       "  'bkpr': '801',\n",
       "  'yy_efee_r': '0',\n",
       "  'ten_dd_efee_r': '0',\n",
       "  'kftc_bkpr': '801',\n",
       "  'kftc_deal_bas_r': '801.08',\n",
       "  'cur_nm': '싱가포르 달러'},\n",
       " {'result': 1,\n",
       "  'cur_unit': 'THB',\n",
       "  'ttb': '32.57',\n",
       "  'tts': '33.22',\n",
       "  'deal_bas_r': '32.9',\n",
       "  'bkpr': '32',\n",
       "  'yy_efee_r': '0',\n",
       "  'ten_dd_efee_r': '0',\n",
       "  'kftc_bkpr': '32',\n",
       "  'kftc_deal_bas_r': '32.9',\n",
       "  'cur_nm': '태국 바트'},\n",
       " {'result': 1,\n",
       "  'cur_unit': 'USD',\n",
       "  'ttb': '1,056.23',\n",
       "  'tts': '1,077.56',\n",
       "  'deal_bas_r': '1,066.9',\n",
       "  'bkpr': '1,066',\n",
       "  'yy_efee_r': '2.69465',\n",
       "  'ten_dd_efee_r': '0.07485',\n",
       "  'kftc_bkpr': '1,071',\n",
       "  'kftc_deal_bas_r': '1,071.4',\n",
       "  'cur_nm': '미국 달러'},\n",
       " {'result': 1,\n",
       "  'cur_unit': 'XOF',\n",
       "  'ttb': '0',\n",
       "  'tts': '0',\n",
       "  'deal_bas_r': '1.9618',\n",
       "  'bkpr': '0',\n",
       "  'yy_efee_r': '0',\n",
       "  'ten_dd_efee_r': '0',\n",
       "  'kftc_bkpr': '0',\n",
       "  'kftc_deal_bas_r': '1.9618',\n",
       "  'cur_nm': '씨에프에이 프랑(비씨에이오)'}]"
      ]
     },
     "execution_count": 7,
     "metadata": {},
     "output_type": "execute_result"
    }
   ],
   "source": [
    "#본격적인 파싱 - 통화코드, 매매기준율의 두가지 정보를 가져와보자\n",
    "json_text"
   ]
  },
  {
   "cell_type": "code",
   "execution_count": 8,
   "metadata": {},
   "outputs": [
    {
     "data": {
      "text/plain": [
       "31"
      ]
     },
     "execution_count": 8,
     "metadata": {},
     "output_type": "execute_result"
    }
   ],
   "source": [
    "len(json_text) #파이썬 리스트처럼 다루기"
   ]
  },
  {
   "cell_type": "code",
   "execution_count": 9,
   "metadata": {},
   "outputs": [
    {
     "data": {
      "text/plain": [
       "{'result': 1,\n",
       " 'cur_unit': 'AED',\n",
       " 'ttb': '288.78',\n",
       " 'tts': '294.61',\n",
       " 'deal_bas_r': '291.7',\n",
       " 'bkpr': '291',\n",
       " 'yy_efee_r': '0',\n",
       " 'ten_dd_efee_r': '0',\n",
       " 'kftc_bkpr': '291',\n",
       " 'kftc_deal_bas_r': '291.7',\n",
       " 'cur_nm': '아랍에미리트 디르함'}"
      ]
     },
     "execution_count": 9,
     "metadata": {},
     "output_type": "execute_result"
    }
   ],
   "source": [
    "json_text[0] #인덱싱 가능"
   ]
  },
  {
   "cell_type": "code",
   "execution_count": 10,
   "metadata": {},
   "outputs": [
    {
     "data": {
      "text/plain": [
       "'AED'"
      ]
     },
     "execution_count": 10,
     "metadata": {},
     "output_type": "execute_result"
    }
   ],
   "source": [
    "jsondict = json_text[0]\n",
    "jsondict[\"cur_unit\"] #인덱싱한 정보는 딕셔너리처럼 key, value로 다룸"
   ]
  },
  {
   "cell_type": "code",
   "execution_count": 11,
   "metadata": {},
   "outputs": [
    {
     "data": {
      "text/html": [
       "<div>\n",
       "<style scoped>\n",
       "    .dataframe tbody tr th:only-of-type {\n",
       "        vertical-align: middle;\n",
       "    }\n",
       "\n",
       "    .dataframe tbody tr th {\n",
       "        vertical-align: top;\n",
       "    }\n",
       "\n",
       "    .dataframe thead th {\n",
       "        text-align: right;\n",
       "    }\n",
       "</style>\n",
       "<table border=\"1\" class=\"dataframe\">\n",
       "  <thead>\n",
       "    <tr style=\"text-align: right;\">\n",
       "      <th></th>\n",
       "      <th>통화코드</th>\n",
       "      <th>매매기준율</th>\n",
       "    </tr>\n",
       "  </thead>\n",
       "  <tbody>\n",
       "    <tr>\n",
       "      <th>0</th>\n",
       "      <td>AED</td>\n",
       "      <td>291.7</td>\n",
       "    </tr>\n",
       "    <tr>\n",
       "      <th>1</th>\n",
       "      <td>ATS</td>\n",
       "      <td>93.52</td>\n",
       "    </tr>\n",
       "    <tr>\n",
       "      <th>2</th>\n",
       "      <td>AUD</td>\n",
       "      <td>836.28</td>\n",
       "    </tr>\n",
       "    <tr>\n",
       "      <th>3</th>\n",
       "      <td>BEF</td>\n",
       "      <td>31.9</td>\n",
       "    </tr>\n",
       "    <tr>\n",
       "      <th>4</th>\n",
       "      <td>BHD</td>\n",
       "      <td>2,839.88</td>\n",
       "    </tr>\n",
       "  </tbody>\n",
       "</table>\n",
       "</div>"
      ],
      "text/plain": [
       "  통화코드     매매기준율\n",
       "0  AED     291.7\n",
       "1  ATS     93.52\n",
       "2  AUD    836.28\n",
       "3  BEF      31.9\n",
       "4  BHD  2,839.88"
      ]
     },
     "execution_count": 11,
     "metadata": {},
     "output_type": "execute_result"
    }
   ],
   "source": [
    "#전체 코드 구현 반복문\n",
    "code_list = []\n",
    "deal_list = []\n",
    "\n",
    "for i in range(len(json_text)):\n",
    "    jsondict = json_text[i]\n",
    "    code_list.append(jsondict[\"cur_unit\"])\n",
    "    deal_list.append(jsondict[\"deal_bas_r\"])\n",
    "    \n",
    "wholedf = pd.concat([pd.DataFrame(code_list), pd.DataFrame(deal_list)], axis = 1)\n",
    "wholedf.columns = [\"통화코드\", \"매매기준율\"]\n",
    "wholedf.head()"
   ]
  },
  {
   "cell_type": "code",
   "execution_count": 2,
   "metadata": {},
   "outputs": [
    {
     "name": "stdout",
     "output_type": "stream",
     "text": [
      "Collecting webdriver-manager\n",
      "  Downloading webdriver_manager-3.8.5-py2.py3-none-any.whl (27 kB)\n",
      "Collecting python-dotenv\n",
      "  Downloading python_dotenv-1.0.0-py3-none-any.whl (19 kB)\n",
      "Requirement already satisfied: tqdm in d:\\anaconda\\lib\\site-packages (from webdriver-manager) (4.64.1)\n",
      "Requirement already satisfied: requests in d:\\anaconda\\lib\\site-packages (from webdriver-manager) (2.28.1)\n",
      "Requirement already satisfied: packaging in d:\\anaconda\\lib\\site-packages (from webdriver-manager) (21.3)\n",
      "Requirement already satisfied: pyparsing!=3.0.5,>=2.0.2 in d:\\anaconda\\lib\\site-packages (from packaging->webdriver-manager) (3.0.9)\n",
      "Requirement already satisfied: charset-normalizer<3,>=2 in d:\\anaconda\\lib\\site-packages (from requests->webdriver-manager) (2.0.4)\n",
      "Requirement already satisfied: idna<4,>=2.5 in d:\\anaconda\\lib\\site-packages (from requests->webdriver-manager) (3.3)\n",
      "Requirement already satisfied: urllib3<1.27,>=1.21.1 in d:\\anaconda\\lib\\site-packages (from requests->webdriver-manager) (1.26.11)\n",
      "Requirement already satisfied: certifi>=2017.4.17 in d:\\anaconda\\lib\\site-packages (from requests->webdriver-manager) (2022.9.14)\n",
      "Requirement already satisfied: colorama in d:\\anaconda\\lib\\site-packages (from tqdm->webdriver-manager) (0.4.5)\n",
      "Installing collected packages: python-dotenv, webdriver-manager\n",
      "Successfully installed python-dotenv-1.0.0 webdriver-manager-3.8.5\n"
     ]
    }
   ],
   "source": [
    "!pip install webdriver-manager"
   ]
  },
  {
   "cell_type": "code",
   "execution_count": 3,
   "metadata": {},
   "outputs": [
    {
     "name": "stderr",
     "output_type": "stream",
     "text": [
      "Matplotlib is building the font cache; this may take a moment.\n"
     ]
    }
   ],
   "source": [
    "#올리브영 데이터 크롤링\n",
    "#필요 라이브러리 설치\n",
    "from selenium import webdriver #동적 크롤러\n",
    "import pandas as pd\n",
    "import numpy as np\n",
    "import requests \n",
    "from bs4 import BeautifulSoup #크롤링한 정보를 파싱, 정리하기 위한 모듈\n",
    "from webdriver_manager.chrome import ChromeDriverManager\n",
    "from selenium.webdriver.common.by import By\n",
    "from selenium.webdriver.common.keys import Keys\n",
    "from tqdm import tqdm #시간별 진행상황\n",
    "import re #정규식\n",
    "import os\n",
    "from urllib import request\n",
    "from urllib.error import HTTPError\n",
    "import time \n",
    "from time import sleep\n",
    "import matplotlib.pyplot as plt \n",
    "import seaborn as sns \n",
    "import warnings\n",
    "warnings.filterwarnings(\"ignore\")\n",
    "import random"
   ]
  },
  {
   "cell_type": "code",
   "execution_count": 5,
   "metadata": {},
   "outputs": [
    {
     "data": {
      "text/html": [
       "<div>\n",
       "<style scoped>\n",
       "    .dataframe tbody tr th:only-of-type {\n",
       "        vertical-align: middle;\n",
       "    }\n",
       "\n",
       "    .dataframe tbody tr th {\n",
       "        vertical-align: top;\n",
       "    }\n",
       "\n",
       "    .dataframe thead th {\n",
       "        text-align: right;\n",
       "    }\n",
       "</style>\n",
       "<table border=\"1\" class=\"dataframe\">\n",
       "  <thead>\n",
       "    <tr style=\"text-align: right;\">\n",
       "      <th></th>\n",
       "      <th>ID</th>\n",
       "      <th>작성자ID</th>\n",
       "      <th>작성자피부타입</th>\n",
       "      <th>상품명</th>\n",
       "      <th>상품옵션</th>\n",
       "      <th>리뷰</th>\n",
       "      <th>리뷰도움</th>\n",
       "      <th>평점</th>\n",
       "    </tr>\n",
       "  </thead>\n",
       "  <tbody>\n",
       "    <tr>\n",
       "      <th>0</th>\n",
       "      <td>0</td>\n",
       "      <td>3925</td>\n",
       "      <td>복합성  겨울쿨톤  각질  잡티</td>\n",
       "      <td>[클리어런스] 클리오 멜팅 쉬어 글로우 밤</td>\n",
       "      <td>[옵션] 001 핑크</td>\n",
       "      <td>새로 나온 제품이라서 리뷰도 없었는데 좋을 것 같아서 사봤습니다 매일매일 바르고 다...</td>\n",
       "      <td>9</td>\n",
       "      <td>4</td>\n",
       "    </tr>\n",
       "    <tr>\n",
       "      <th>1</th>\n",
       "      <td>1</td>\n",
       "      <td>71</td>\n",
       "      <td>복합성  웜톤  각질  모공</td>\n",
       "      <td>[클리어런스] 클리오 멜팅 쉬어 글로우 밤</td>\n",
       "      <td>[옵션] 003 로지</td>\n",
       "      <td>멜팅 쉬어 글로우 밤 이라는 이름에 끌려서 주문했어요.음.. 근데 글로우 ᅲᅲ 넘 ...</td>\n",
       "      <td>2</td>\n",
       "      <td>4</td>\n",
       "    </tr>\n",
       "    <tr>\n",
       "      <th>2</th>\n",
       "      <td>2</td>\n",
       "      <td>3838</td>\n",
       "      <td>복합성  웜톤  주름  탄력</td>\n",
       "      <td>[클리어런스] 클리오 멜팅 쉬어 글로우 밤</td>\n",
       "      <td>[옵션] 002 코랄</td>\n",
       "      <td>처음에 구매했던 핑크 립밤이 너무 마음에 들어 이번에는 다른 색으로 써 보고 싶어 ...</td>\n",
       "      <td>2</td>\n",
       "      <td>4</td>\n",
       "    </tr>\n",
       "    <tr>\n",
       "      <th>3</th>\n",
       "      <td>3</td>\n",
       "      <td>4285</td>\n",
       "      <td>지성  쿨톤  각질  블랙헤드</td>\n",
       "      <td>[클리어런스] 클리오 멜팅 쉬어 글로우 밤</td>\n",
       "      <td>[옵션] 001 핑크</td>\n",
       "      <td>얼마전에 군 입대(여군)로 립밤을 들고가야 했는데 , 색 있는 립밤은 안되고 , 니...</td>\n",
       "      <td>8</td>\n",
       "      <td>5</td>\n",
       "    </tr>\n",
       "    <tr>\n",
       "      <th>4</th>\n",
       "      <td>4</td>\n",
       "      <td>3838</td>\n",
       "      <td>복합성  웜톤  주름  탄력</td>\n",
       "      <td>[클리어런스] 클리오 멜팅 쉬어 글로우 밤</td>\n",
       "      <td>[옵션] 001 핑크</td>\n",
       "      <td>정말 촉촉하게 잘 발리는 립밤을 찾은 것 같아 좋아요! 제가 술이 금방 건조해지고 ...</td>\n",
       "      <td>2</td>\n",
       "      <td>5</td>\n",
       "    </tr>\n",
       "  </tbody>\n",
       "</table>\n",
       "</div>"
      ],
      "text/plain": [
       "   ID  작성자ID            작성자피부타입                      상품명         상품옵션  \\\n",
       "0   0   3925  복합성  겨울쿨톤  각질  잡티  [클리어런스] 클리오 멜팅 쉬어 글로우 밤  [옵션] 001 핑크   \n",
       "1   1     71    복합성  웜톤  각질  모공  [클리어런스] 클리오 멜팅 쉬어 글로우 밤  [옵션] 003 로지   \n",
       "2   2   3838    복합성  웜톤  주름  탄력  [클리어런스] 클리오 멜팅 쉬어 글로우 밤  [옵션] 002 코랄   \n",
       "3   3   4285   지성  쿨톤  각질  블랙헤드  [클리어런스] 클리오 멜팅 쉬어 글로우 밤  [옵션] 001 핑크   \n",
       "4   4   3838    복합성  웜톤  주름  탄력  [클리어런스] 클리오 멜팅 쉬어 글로우 밤  [옵션] 001 핑크   \n",
       "\n",
       "                                                  리뷰  리뷰도움  평점  \n",
       "0  새로 나온 제품이라서 리뷰도 없었는데 좋을 것 같아서 사봤습니다 매일매일 바르고 다...     9   4  \n",
       "1  멜팅 쉬어 글로우 밤 이라는 이름에 끌려서 주문했어요.음.. 근데 글로우 ᅲᅲ 넘 ...     2   4  \n",
       "2  처음에 구매했던 핑크 립밤이 너무 마음에 들어 이번에는 다른 색으로 써 보고 싶어 ...     2   4  \n",
       "3  얼마전에 군 입대(여군)로 립밤을 들고가야 했는데 , 색 있는 립밤은 안되고 , 니...     8   5  \n",
       "4  정말 촉촉하게 잘 발리는 립밤을 찾은 것 같아 좋아요! 제가 술이 금방 건조해지고 ...     2   5  "
      ]
     },
     "execution_count": 5,
     "metadata": {},
     "output_type": "execute_result"
    }
   ],
   "source": [
    "olive = pd.read_csv(\"/Users/bykwon/Downloads/train.csv\")\n",
    "olive.head()"
   ]
  },
  {
   "cell_type": "code",
   "execution_count": 6,
   "metadata": {
    "scrolled": true
   },
   "outputs": [
    {
     "name": "stdout",
     "output_type": "stream",
     "text": [
      "['[클리어런스] 클리오 멜팅 쉬어 글로우 밤' '디어달리아 블루밍 에디션 립 파라다이스 컬러 밤 4.5g'\n",
      " '[단독기획] 에스쁘아 노웨어 글로우 립밤' '[정민Pick] 피브 컬러밤 5 color '\n",
      " '헤라 센슈얼 스파이시 누드 밤 3.5g / 6 color']\n"
     ]
    }
   ],
   "source": [
    "name_array = olive[\"상품명\"].unique()\n",
    "print(name_array[:5]) #상품명 어레이"
   ]
  },
  {
   "cell_type": "code",
   "execution_count": 20,
   "metadata": {},
   "outputs": [],
   "source": [
    "driver = webdriver.Chrome(executable_path = \"/Users/Downloads/chromedriver/chromedriver.exe\")"
   ]
  },
  {
   "cell_type": "code",
   "execution_count": 21,
   "metadata": {
    "scrolled": true
   },
   "outputs": [
    {
     "data": {
      "text/plain": [
       "'[클리어런스] 클리오 멜팅 쉬어 글로우 밤'"
      ]
     },
     "execution_count": 21,
     "metadata": {},
     "output_type": "execute_result"
    }
   ],
   "source": [
    "test_name = name_array[0]\n",
    "test_name"
   ]
  },
  {
   "cell_type": "code",
   "execution_count": 22,
   "metadata": {},
   "outputs": [],
   "source": [
    "main_url = \"https://www.oliveyoung.co.kr/store/main/main.do?oy=0\"\n",
    "driver.get(main_url)"
   ]
  },
  {
   "cell_type": "code",
   "execution_count": 12,
   "metadata": {},
   "outputs": [],
   "source": [
    "driver.find_element(By.XPATH, \"/html/body/div[3]/div[6]/div[2]/div/div[1]/label\").click()\n",
    "\n",
    "driver.find_element(By.XPATH, \"/html/body/div[3]/div[6]/div[2]/div/div[1]/input\").send_keys(test_name)\n",
    "\n",
    "driver.find_element(By.XPATH, \"/html/body/div[3]/div[6]/div[2]/div/button\").click()"
   ]
  },
  {
   "cell_type": "code",
   "execution_count": 13,
   "metadata": {},
   "outputs": [
    {
     "data": {
      "text/plain": [
       "<re.Match object; span=(0, 7), match='[클리어런스]'>"
      ]
     },
     "execution_count": 13,
     "metadata": {},
     "output_type": "execute_result"
    }
   ],
   "source": [
    "re_ex_big = \"\\[.*\\]\"\n",
    "\n",
    "p = re.compile(re_ex_big)\n",
    "p.match(test_name)"
   ]
  },
  {
   "cell_type": "code",
   "execution_count": 14,
   "metadata": {},
   "outputs": [
    {
     "data": {
      "text/plain": [
       "' 클리오 멜팅 쉬어 글로우 밤'"
      ]
     },
     "execution_count": 14,
     "metadata": {},
     "output_type": "execute_result"
    }
   ],
   "source": [
    "p.sub(\"\", test_name)"
   ]
  },
  {
   "cell_type": "code",
   "execution_count": 15,
   "metadata": {},
   "outputs": [],
   "source": [
    "new_name_list = []\n",
    "for name in name_array:\n",
    "    new_name_list.append(p.sub(\"\", name))"
   ]
  },
  {
   "cell_type": "code",
   "execution_count": 16,
   "metadata": {},
   "outputs": [
    {
     "data": {
      "text/plain": [
       "[' 클리오 멜팅 쉬어 글로우 밤',\n",
       " '디어달리아 블루밍 에디션 립 파라다이스 컬러 밤 4.5g',\n",
       " ' 에스쁘아 노웨어 글로우 립밤',\n",
       " ' 피브 컬러밤 5 color ',\n",
       " '헤라 센슈얼 스파이시 누드 밤 3.5g / 6 color',\n",
       " '다슈 맨즈 더블 어필 립밤',\n",
       " '라카 소울 비건 립밤',\n",
       " ' 베네피트 퍼커 업&피스 아웃 4.5g',\n",
       " ' 어뮤즈 비건 그린 립밤',\n",
       " '오브제 무드체인지 립밤 3g',\n",
       " '바비브라운 립밤 SPF15',\n",
       " ' 키르시 블렌딩 스윗 드림 틴트 밤 4종',\n",
       " 'MAC 글로우 플레이 립 밤X카카오프렌즈 5종',\n",
       " '에스티 로더 퓨어 컬러 리바이탈라이징 크리스탈 밤',\n",
       " '코드글로컬러 컴포트 핏 글로우밤',\n",
       " '빌리프xVDL 블라스트밤 스퀴즈 페인트',\n",
       " 'MAC 프렙+프라임 립',\n",
       " 'MAC 텐더토크 립 밤',\n",
       " '3CE 테이크 어 레이어 멀티 팟',\n",
       " '코드글로컬러 컴포트 핏 블러밤']"
      ]
     },
     "execution_count": 16,
     "metadata": {},
     "output_type": "execute_result"
    }
   ],
   "source": [
    "new_name_list[:20]"
   ]
  },
  {
   "cell_type": "code",
   "execution_count": 23,
   "metadata": {},
   "outputs": [],
   "source": [
    "test_real = new_name_list[0]\n",
    "driver.find_element(By.XPATH, \"/html/body/div[3]/div[6]/div[2]/div/div[1]/label\").click()\n",
    "driver.implicitly_wait(2)\n",
    "driver.find_element(By.XPATH, \"/html/body/div[3]/div[6]/div[2]/div/div[1]/input\").send_keys(test_real)\n",
    "driver.find_element(By.XPATH, \"/html/body/div[3]/div[6]/div[2]/div/button\").click()"
   ]
  },
  {
   "cell_type": "code",
   "execution_count": 24,
   "metadata": {},
   "outputs": [],
   "source": [
    "driver.find_element(By.XPATH, \"/html/body/div[3]/div[8]/div/div[3]/ul[1]/li/div\").click()\n",
    "driver.implicitly_wait(1)"
   ]
  },
  {
   "cell_type": "code",
   "execution_count": 25,
   "metadata": {},
   "outputs": [
    {
     "data": {
      "text/plain": [
       "'틴티드립밤'"
      ]
     },
     "execution_count": 25,
     "metadata": {},
     "output_type": "execute_result"
    }
   ],
   "source": [
    "driver.find_element(By.XPATH, \"/html/body/div[3]/div[8]/div/div[1]/ul/li[3]/a\").text"
   ]
  },
  {
   "cell_type": "markdown",
   "metadata": {
    "id": "PdNnPoj99ugC"
   },
   "source": [
    "1. https://deal.11st.co.kr/browsing/DealAction.tmall?method=getShockingDealMain 위 링크 속 11번가 홈페이지에서 인기 아마존딜 상위 2개 상품의 하위 카테고리를 크롤링하라. 일례로 https://www.11st.co.kr/products/pa/3551881828 위 상품은 '스포츠 모자'이다. (아래 친절한 수행 단계 있음)\n",
    "\n",
    "\n",
    "\n",
    "\n",
    "---\n",
    "\n",
    "step 1. 컴퓨터의 크롬 버전을 확인한 후 https://sites.google.com/a/chromium.org/chromedriver/downloads 이 사이트에서 크롬드라이버를 설치한다.\n",
    "\n",
    "step 2. 크롬드라이버 객체를 정의한 뒤 문제 속 url에 접속한다.\n",
    "\n",
    "step 3. 인기 아마존딜 1등 상품의 http 소스를 검사해 xpath 를 복사해서 드라이버로 하여금 클릭한다.\n",
    "\n",
    "step 4. 하위 카테고리의 xpath를 복사한 뒤 text 형태로 불러온다.\n",
    "\n",
    "step 5. 동일한 작업을 2등 상품에도 진행한다.\n",
    "\n",
    "\n"
   ]
  },
  {
   "cell_type": "code",
   "execution_count": 26,
   "metadata": {},
   "outputs": [],
   "source": [
    "driver = webdriver.Chrome(executable_path = \"/Users/Downloads/chromedriver/chromedriver.exe\")"
   ]
  },
  {
   "cell_type": "code",
   "execution_count": 27,
   "metadata": {},
   "outputs": [],
   "source": [
    "main_url = \"https://deal.11st.co.kr/browsing/DealAction.tmall?method=getShockingDealMain\"\n",
    "driver.get(main_url)"
   ]
  },
  {
   "cell_type": "code",
   "execution_count": 28,
   "metadata": {},
   "outputs": [],
   "source": [
    "driver.find_element(By.XPATH, \"/html/body/div[2]/div[3]/div/section[2]/div[2]/ul/li[1]/div/a/div[1]/span[2]\").click() "
   ]
  },
  {
   "cell_type": "code",
   "execution_count": 29,
   "metadata": {},
   "outputs": [
    {
     "data": {
      "text/plain": [
       "'캠핑 주방'"
      ]
     },
     "execution_count": 29,
     "metadata": {},
     "output_type": "execute_result"
    }
   ],
   "source": [
    "driver.find_element(By.XPATH, \"/html/body/div[2]/div[3]/div/div[1]/div/div/div[1]/div[1]/ol/li[4]/div/div[1]/em\").text"
   ]
  },
  {
   "cell_type": "code",
   "execution_count": 30,
   "metadata": {},
   "outputs": [],
   "source": [
    "driver.get(main_url)"
   ]
  },
  {
   "cell_type": "code",
   "execution_count": 31,
   "metadata": {},
   "outputs": [],
   "source": [
    "driver.find_element(By.XPATH, \"/html/body/div[2]/div[3]/div/section[2]/div[2]/ul/li[2]/div/a/div[1]/span[2]\").click()"
   ]
  },
  {
   "cell_type": "code",
   "execution_count": 32,
   "metadata": {},
   "outputs": [
    {
     "data": {
      "text/plain": [
       "'기타 제품'"
      ]
     },
     "execution_count": 32,
     "metadata": {},
     "output_type": "execute_result"
    }
   ],
   "source": [
    "driver.find_element(By.XPATH, \"/html/body/div[2]/div[3]/div/div[1]/div/div/div[1]/div[1]/ol/li[4]/div/div[1]/em\").text"
   ]
  }
 ],
 "metadata": {
  "colab": {
   "collapsed_sections": [
    "07xehwUq9wi4",
    "zfbSUkf-n-5E",
    "yevjXObmCB_R",
    "hdkaTvGs8fCK",
    "cn-bUEdbEmEZ",
    "48GcRKnDNPCG",
    "qqG4K7mPJnEx",
    "rz3aXAo-9kHX"
   ],
   "provenance": []
  },
  "kernelspec": {
   "display_name": "Python 3 (ipykernel)",
   "language": "python",
   "name": "python3"
  },
  "language_info": {
   "codemirror_mode": {
    "name": "ipython",
    "version": 3
   },
   "file_extension": ".py",
   "mimetype": "text/x-python",
   "name": "python",
   "nbconvert_exporter": "python",
   "pygments_lexer": "ipython3",
   "version": "3.9.13"
  }
 },
 "nbformat": 4,
 "nbformat_minor": 1
}
