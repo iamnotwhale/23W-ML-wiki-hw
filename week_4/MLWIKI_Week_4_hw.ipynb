{
  "nbformat": 4,
  "nbformat_minor": 0,
  "metadata": {
    "colab": {
      "provenance": [],
      "collapsed_sections": [
        "nI9uaFXJ-orN",
        "Ja7kkRMc_gzF",
        "MpzpWhxomgA5",
        "Lifka19CVWno",
        "9XU5rEsMSGux"
      ]
    },
    "kernelspec": {
      "name": "python3",
      "display_name": "Python 3"
    },
    "language_info": {
      "name": "python"
    }
  },
  "cells": [
    {
      "cell_type": "code",
      "source": [
        "from google.colab import drive\n",
        "drive.mount('/content/gdrive')"
      ],
      "metadata": {
        "colab": {
          "base_uri": "https://localhost:8080/"
        },
        "id": "OvOtocf3A0Ys",
        "outputId": "45db3d29-096a-44b6-804d-2ae8399c0d72"
      },
      "execution_count": 1,
      "outputs": [
        {
          "output_type": "stream",
          "name": "stdout",
          "text": [
            "Mounted at /content/gdrive\n"
          ]
        }
      ]
    },
    {
      "cell_type": "code",
      "source": [
        "import numpy as np\n",
        "import pandas as pd\n",
        "import matplotlib.pyplot as plt\n",
        "import seaborn as sns\n",
        "import warnings\n",
        "warnings.filterwarnings(\"ignore\")"
      ],
      "metadata": {
        "id": "YOdgsWS6QKq-"
      },
      "execution_count": 2,
      "outputs": []
    },
    {
      "cell_type": "markdown",
      "source": [
        "#4주차 과제"
      ],
      "metadata": {
        "id": "ID3kk7FFbYYF"
      }
    },
    {
      "cell_type": "markdown",
      "source": [
        "# 0. 전체 코드만(텍스트 제외) 필사하라."
      ],
      "metadata": {
        "id": "E9g_6iC0cSGo"
      }
    },
    {
      "cell_type": "code",
      "source": [
        "#과제 피드백\n",
        "x = np.array([np.random.normal(2,2) for i in range(10000)])\n",
        "y = np.array(x*2)\n",
        "print(\"y: \", np.mean(y), \"x: \", np.mean(x))"
      ],
      "metadata": {
        "colab": {
          "base_uri": "https://localhost:8080/"
        },
        "id": "mmeX1vpnXkXg",
        "outputId": "9fc121ee-a156-4147-a165-a3134e691b73"
      },
      "execution_count": 42,
      "outputs": [
        {
          "output_type": "stream",
          "name": "stdout",
          "text": [
            "y:  3.963118454561935 x:  1.9815592272809675\n"
          ]
        }
      ]
    },
    {
      "cell_type": "code",
      "source": [
        "def loss(b_1):\n",
        "    return sum((y-b_1*x)**2)\n",
        "#loss함수에서 이야기하는 y와 x는 무슨 변수인가\n",
        "#y, x 모두 전역변수인데 loss 함수 내에서 지역변수처럼 써버림\n",
        "#다른 셀에서 x랑 y를 다루고자 할 떄 컴퓨터가 헷갈림\n",
        "#잘못되진 않았으나 지양하자."
      ],
      "metadata": {
        "id": "R-f_2Rz6jiZN"
      },
      "execution_count": 43,
      "outputs": []
    },
    {
      "cell_type": "code",
      "source": [
        "# 이상적인 방향1\n",
        "#global변수 활용하겠다는 선언\n",
        "def loss(b_1):\n",
        "  global x, y\n",
        "  return sum((y-b_1*x)**2)\n",
        "\n",
        "# 이상적인 방향 2 (제일 이상적)\n",
        "def loss(b_1, x, y): #아예 인자로 x, y를 전달. x y로 어떤 값이 들어와도 대응 가능\n",
        "  return sum((y-b_1*x)**2)"
      ],
      "metadata": {
        "id": "LfIp3PcdkWuP"
      },
      "execution_count": 44,
      "outputs": []
    },
    {
      "cell_type": "code",
      "source": [
        "#필요 라이브러리 임포트\n",
        "#모델\n",
        "import pandas as pd\n",
        "import numpy as np\n",
        "from sklearn.linear_model import LogisticRegression #logistic regression\n",
        "from sklearn import svm #support vector Machine\n",
        "from sklearn.ensemble import RandomForestClassifier #Random Forest\n",
        "from sklearn.tree import DecisionTreeClassifier #Decision Tree\n",
        "from xgboost import XGBClassifier #XGBoost\n",
        "import lightgbm as lgb # LightGBM\n",
        "from sklearn import tree"
      ],
      "metadata": {
        "id": "Ax5Gkp7nkrBQ"
      },
      "execution_count": 45,
      "outputs": []
    },
    {
      "cell_type": "code",
      "source": [
        "#기타\n",
        "from sklearn.model_selection import train_test_split #training and testing data split\n",
        "from sklearn import metrics #accuracy measure\n",
        "from sklearn.metrics import accuracy_score\n",
        "from sklearn.metrics import precision_score, recall_score, f1_score, r2_score\n",
        "from sklearn.metrics import confusion_matrix\n",
        "from sklearn.tree import export_graphviz\n",
        "import graphviz"
      ],
      "metadata": {
        "id": "amAy07tckxAc"
      },
      "execution_count": 46,
      "outputs": []
    },
    {
      "cell_type": "code",
      "source": [
        "titanic = pd.read_csv(\"/content/gdrive/MyDrive/Colab Notebooks/titanic.csv\")\n",
        "#타이타닉에 있던 사람들의 신원 정보 데이터셋 - 다른 feature를 보고 생존여부 예측\n",
        "#age: 평균으로 처리\n",
        "titanic[\"Age\"] = titanic[\"Age\"].fillna(titanic[\"Age\"].mean())\n",
        "#cabin은 결측치가 대부분이므로 필요 없을 것 -> 드랍\n",
        "titanic = titanic.drop([\"Cabin\"], axis = 1)\n",
        "titanic[\"Embarked\"] = titanic[\"Embarked\"].fillna(titanic[\"Embarked\"].value_counts().index[0]) #최빈값\n",
        "titanic[\"Family Size\"] = 0 #family_size라는 열 생성, 0으로 초기화\n",
        "titanic[\"Family_Size\"] = titanic[\"Parch\"] + titanic[\"SibSp\"] #가족수 계산\n",
        "titanic[\"Alone\"] = 0 #alone이라는 이진분류용 열 생성, 0으로 초기화\n",
        "titanic.loc[titanic[\"Family_Size\"]==0, \"Alone\"] = 1 #Family_size가 0인 사람은 1로 라벨링. 나머지는 여전히 0\n",
        "# Name, PassengerID, Ticket은 중요하지 않은 변수로 영향 없음\n",
        "titanic = titanic.drop([\"Name\", \"PassengerId\", \"Ticket\"], axis  = 1)\n",
        "#sex,embarked 변수는 categorical variable상태 -> 인코딩\n",
        "from sklearn.preprocessing import LabelEncoder\n",
        "le_sex = LabelEncoder()\n",
        "le_sex.fit(titanic[\"Sex\"])\n",
        "titanic[\"Sex\"] = le_sex.transform(titanic[\"Sex\"])\n",
        "#male 1 female 0\n",
        "le_embarked = LabelEncoder()\n",
        "le_embarked.fit(titanic[\"Embarked\"])\n",
        "titanic[\"Embarked\"] = le_embarked.transform(titanic[\"Embarked\"])\n",
        "titanic.head()"
      ],
      "metadata": {
        "colab": {
          "base_uri": "https://localhost:8080/",
          "height": 206
        },
        "id": "BjCs5_Npk0vK",
        "outputId": "8898792f-223d-42ee-eeb5-f171e2f585b9"
      },
      "execution_count": 49,
      "outputs": [
        {
          "output_type": "execute_result",
          "data": {
            "text/plain": [
              "   Survived  Pclass  Sex   Age  SibSp  Parch     Fare  Embarked  Family Size  \\\n",
              "0         0       3    1  22.0      1      0   7.2500         2            0   \n",
              "1         1       1    0  38.0      1      0  71.2833         0            0   \n",
              "2         1       3    0  26.0      0      0   7.9250         2            0   \n",
              "3         1       1    0  35.0      1      0  53.1000         2            0   \n",
              "4         0       3    1  35.0      0      0   8.0500         2            0   \n",
              "\n",
              "   Family_Size  Alone  \n",
              "0            1      0  \n",
              "1            1      0  \n",
              "2            0      1  \n",
              "3            1      0  \n",
              "4            0      1  "
            ],
            "text/html": [
              "\n",
              "  <div id=\"df-1308c325-d60c-4186-80c0-7e0c08cda4ef\">\n",
              "    <div class=\"colab-df-container\">\n",
              "      <div>\n",
              "<style scoped>\n",
              "    .dataframe tbody tr th:only-of-type {\n",
              "        vertical-align: middle;\n",
              "    }\n",
              "\n",
              "    .dataframe tbody tr th {\n",
              "        vertical-align: top;\n",
              "    }\n",
              "\n",
              "    .dataframe thead th {\n",
              "        text-align: right;\n",
              "    }\n",
              "</style>\n",
              "<table border=\"1\" class=\"dataframe\">\n",
              "  <thead>\n",
              "    <tr style=\"text-align: right;\">\n",
              "      <th></th>\n",
              "      <th>Survived</th>\n",
              "      <th>Pclass</th>\n",
              "      <th>Sex</th>\n",
              "      <th>Age</th>\n",
              "      <th>SibSp</th>\n",
              "      <th>Parch</th>\n",
              "      <th>Fare</th>\n",
              "      <th>Embarked</th>\n",
              "      <th>Family Size</th>\n",
              "      <th>Family_Size</th>\n",
              "      <th>Alone</th>\n",
              "    </tr>\n",
              "  </thead>\n",
              "  <tbody>\n",
              "    <tr>\n",
              "      <th>0</th>\n",
              "      <td>0</td>\n",
              "      <td>3</td>\n",
              "      <td>1</td>\n",
              "      <td>22.0</td>\n",
              "      <td>1</td>\n",
              "      <td>0</td>\n",
              "      <td>7.2500</td>\n",
              "      <td>2</td>\n",
              "      <td>0</td>\n",
              "      <td>1</td>\n",
              "      <td>0</td>\n",
              "    </tr>\n",
              "    <tr>\n",
              "      <th>1</th>\n",
              "      <td>1</td>\n",
              "      <td>1</td>\n",
              "      <td>0</td>\n",
              "      <td>38.0</td>\n",
              "      <td>1</td>\n",
              "      <td>0</td>\n",
              "      <td>71.2833</td>\n",
              "      <td>0</td>\n",
              "      <td>0</td>\n",
              "      <td>1</td>\n",
              "      <td>0</td>\n",
              "    </tr>\n",
              "    <tr>\n",
              "      <th>2</th>\n",
              "      <td>1</td>\n",
              "      <td>3</td>\n",
              "      <td>0</td>\n",
              "      <td>26.0</td>\n",
              "      <td>0</td>\n",
              "      <td>0</td>\n",
              "      <td>7.9250</td>\n",
              "      <td>2</td>\n",
              "      <td>0</td>\n",
              "      <td>0</td>\n",
              "      <td>1</td>\n",
              "    </tr>\n",
              "    <tr>\n",
              "      <th>3</th>\n",
              "      <td>1</td>\n",
              "      <td>1</td>\n",
              "      <td>0</td>\n",
              "      <td>35.0</td>\n",
              "      <td>1</td>\n",
              "      <td>0</td>\n",
              "      <td>53.1000</td>\n",
              "      <td>2</td>\n",
              "      <td>0</td>\n",
              "      <td>1</td>\n",
              "      <td>0</td>\n",
              "    </tr>\n",
              "    <tr>\n",
              "      <th>4</th>\n",
              "      <td>0</td>\n",
              "      <td>3</td>\n",
              "      <td>1</td>\n",
              "      <td>35.0</td>\n",
              "      <td>0</td>\n",
              "      <td>0</td>\n",
              "      <td>8.0500</td>\n",
              "      <td>2</td>\n",
              "      <td>0</td>\n",
              "      <td>0</td>\n",
              "      <td>1</td>\n",
              "    </tr>\n",
              "  </tbody>\n",
              "</table>\n",
              "</div>\n",
              "      <button class=\"colab-df-convert\" onclick=\"convertToInteractive('df-1308c325-d60c-4186-80c0-7e0c08cda4ef')\"\n",
              "              title=\"Convert this dataframe to an interactive table.\"\n",
              "              style=\"display:none;\">\n",
              "        \n",
              "  <svg xmlns=\"http://www.w3.org/2000/svg\" height=\"24px\"viewBox=\"0 0 24 24\"\n",
              "       width=\"24px\">\n",
              "    <path d=\"M0 0h24v24H0V0z\" fill=\"none\"/>\n",
              "    <path d=\"M18.56 5.44l.94 2.06.94-2.06 2.06-.94-2.06-.94-.94-2.06-.94 2.06-2.06.94zm-11 1L8.5 8.5l.94-2.06 2.06-.94-2.06-.94L8.5 2.5l-.94 2.06-2.06.94zm10 10l.94 2.06.94-2.06 2.06-.94-2.06-.94-.94-2.06-.94 2.06-2.06.94z\"/><path d=\"M17.41 7.96l-1.37-1.37c-.4-.4-.92-.59-1.43-.59-.52 0-1.04.2-1.43.59L10.3 9.45l-7.72 7.72c-.78.78-.78 2.05 0 2.83L4 21.41c.39.39.9.59 1.41.59.51 0 1.02-.2 1.41-.59l7.78-7.78 2.81-2.81c.8-.78.8-2.07 0-2.86zM5.41 20L4 18.59l7.72-7.72 1.47 1.35L5.41 20z\"/>\n",
              "  </svg>\n",
              "      </button>\n",
              "      \n",
              "  <style>\n",
              "    .colab-df-container {\n",
              "      display:flex;\n",
              "      flex-wrap:wrap;\n",
              "      gap: 12px;\n",
              "    }\n",
              "\n",
              "    .colab-df-convert {\n",
              "      background-color: #E8F0FE;\n",
              "      border: none;\n",
              "      border-radius: 50%;\n",
              "      cursor: pointer;\n",
              "      display: none;\n",
              "      fill: #1967D2;\n",
              "      height: 32px;\n",
              "      padding: 0 0 0 0;\n",
              "      width: 32px;\n",
              "    }\n",
              "\n",
              "    .colab-df-convert:hover {\n",
              "      background-color: #E2EBFA;\n",
              "      box-shadow: 0px 1px 2px rgba(60, 64, 67, 0.3), 0px 1px 3px 1px rgba(60, 64, 67, 0.15);\n",
              "      fill: #174EA6;\n",
              "    }\n",
              "\n",
              "    [theme=dark] .colab-df-convert {\n",
              "      background-color: #3B4455;\n",
              "      fill: #D2E3FC;\n",
              "    }\n",
              "\n",
              "    [theme=dark] .colab-df-convert:hover {\n",
              "      background-color: #434B5C;\n",
              "      box-shadow: 0px 1px 3px 1px rgba(0, 0, 0, 0.15);\n",
              "      filter: drop-shadow(0px 1px 2px rgba(0, 0, 0, 0.3));\n",
              "      fill: #FFFFFF;\n",
              "    }\n",
              "  </style>\n",
              "\n",
              "      <script>\n",
              "        const buttonEl =\n",
              "          document.querySelector('#df-1308c325-d60c-4186-80c0-7e0c08cda4ef button.colab-df-convert');\n",
              "        buttonEl.style.display =\n",
              "          google.colab.kernel.accessAllowed ? 'block' : 'none';\n",
              "\n",
              "        async function convertToInteractive(key) {\n",
              "          const element = document.querySelector('#df-1308c325-d60c-4186-80c0-7e0c08cda4ef');\n",
              "          const dataTable =\n",
              "            await google.colab.kernel.invokeFunction('convertToInteractive',\n",
              "                                                     [key], {});\n",
              "          if (!dataTable) return;\n",
              "\n",
              "          const docLinkHtml = 'Like what you see? Visit the ' +\n",
              "            '<a target=\"_blank\" href=https://colab.research.google.com/notebooks/data_table.ipynb>data table notebook</a>'\n",
              "            + ' to learn more about interactive tables.';\n",
              "          element.innerHTML = '';\n",
              "          dataTable['output_type'] = 'display_data';\n",
              "          await google.colab.output.renderOutput(dataTable, element);\n",
              "          const docLink = document.createElement('div');\n",
              "          docLink.innerHTML = docLinkHtml;\n",
              "          element.appendChild(docLink);\n",
              "        }\n",
              "      </script>\n",
              "    </div>\n",
              "  </div>\n",
              "  "
            ]
          },
          "metadata": {},
          "execution_count": 49
        }
      ]
    },
    {
      "cell_type": "code",
      "source": [
        "X = titanic.drop([\"Survived\"], axis = 1)\n",
        "y = titanic[\"Survived\"]\n",
        "X_train, X_test, y_train, y_test = train_test_split(X, y, test_size = 0.2, random_state = 156)\n",
        "print(X_train.shape, X_test.shape, y_train.shape, y_test.shape)\n",
        "#712개의 데이터가 training, 179개 데이터가 test"
      ],
      "metadata": {
        "colab": {
          "base_uri": "https://localhost:8080/"
        },
        "id": "vecyIhofm0qh",
        "outputId": "b9fef8b2-9f06-4364-aa18-689e3ba06ea3"
      },
      "execution_count": 50,
      "outputs": [
        {
          "output_type": "stream",
          "name": "stdout",
          "text": [
            "(712, 10) (179, 10) (712,) (179,)\n"
          ]
        }
      ]
    },
    {
      "cell_type": "code",
      "source": [
        "#어떤 모델이든 그 성능을 여러 지표로 평가해 보여주는 함수\n",
        "def evaluate_metrics(model, X_test, y_test):\n",
        "  y_hat = model.predict(X_test)\n",
        "  print(\"Confusion matrix: \", confusion_matrix(y_test, y_hat), \"\\n\")\n",
        "  print(\"Accuracy: \", accuracy_score(y_test, y_hat), \"\\n\")\n",
        "  print(\"Precision: \", precision_score(y_test, y_hat), \"Recall: \", recall_score(y_test, y_hat), \"\\n\")\n",
        "  print(\"F1 score: \", f1_score(y_test, y_hat), \"\\n\")"
      ],
      "metadata": {
        "id": "QwkJMzGMnJAu"
      },
      "execution_count": 51,
      "outputs": []
    },
    {
      "cell_type": "code",
      "source": [
        "#하이퍼 파라미터 튜닝을 SVM으로 해보자\n",
        "#조정하고 싶은 하이퍼파라미터는 kernel, C, gamma 세 개.\n",
        "#하이퍼파라미터 뭉치는 딕셔너리와 리스트를 결합해서 생성\n",
        "#이들을 조합하는 경우의수를 모두 연산해야 하니 조금 시간이 많이 걸릴 것\n",
        "#tqdm은 반복문에 감싸서 그 반복문의 연산 시간을 계산하는 메소드\n",
        "from tqdm import tqdm\n",
        "hparams = {\"kernel\" : [\"linear\", \"poly\", \"rbf\", \"sigmoid\"], \"C\" : [0.01, 0.1, 0.2, 0.5, 1.0]}\n",
        "for kernel in tqdm(hparams['kernel']):\n",
        "  for c in hparams[\"C\"]:\n",
        "    svc = svm.SVC(kernel = kernel, C = c) \n",
        "    svc.fit(X_train, y_train) \n",
        "    y_pred = svc.predict(X_test)\n",
        "    print(\"kernel:\", kernel, \"C:\", c,  \"Score:\", accuracy_score(y_test, y_pred))\n",
        "\n",
        "#어떤 kernel과 C의 조합이 가장 적절한지 판단 가능\n",
        "#아래결과 바탕으로 kernel: linear, C:0.01이 좋을 듯"
      ],
      "metadata": {
        "colab": {
          "base_uri": "https://localhost:8080/"
        },
        "id": "IDl5Wp3WnNWX",
        "outputId": "743fc375-4314-4ef4-d68d-23312c476346"
      },
      "execution_count": 52,
      "outputs": [
        {
          "output_type": "stream",
          "name": "stderr",
          "text": [
            "\r  0%|          | 0/4 [00:00<?, ?it/s]"
          ]
        },
        {
          "output_type": "stream",
          "name": "stdout",
          "text": [
            "kernel: linear C: 0.01 Score: 0.7988826815642458\n",
            "kernel: linear C: 0.1 Score: 0.7988826815642458\n",
            "kernel: linear C: 0.2 Score: 0.7988826815642458\n",
            "kernel: linear C: 0.5 Score: 0.7988826815642458\n"
          ]
        },
        {
          "output_type": "stream",
          "name": "stderr",
          "text": [
            " 50%|█████     | 2/4 [00:04<00:04,  2.07s/it]"
          ]
        },
        {
          "output_type": "stream",
          "name": "stdout",
          "text": [
            "kernel: linear C: 1.0 Score: 0.7988826815642458\n",
            "kernel: poly C: 0.01 Score: 0.6145251396648045\n",
            "kernel: poly C: 0.1 Score: 0.6201117318435754\n",
            "kernel: poly C: 0.2 Score: 0.6201117318435754\n",
            "kernel: poly C: 0.5 Score: 0.6256983240223464\n",
            "kernel: poly C: 1.0 Score: 0.6312849162011173\n",
            "kernel: rbf C: 0.01 Score: 0.5977653631284916\n"
          ]
        },
        {
          "output_type": "stream",
          "name": "stderr",
          "text": [
            "\r 75%|███████▌  | 3/4 [00:05<00:01,  1.20s/it]"
          ]
        },
        {
          "output_type": "stream",
          "name": "stdout",
          "text": [
            "kernel: rbf C: 0.1 Score: 0.6759776536312849\n",
            "kernel: rbf C: 0.2 Score: 0.7039106145251397\n",
            "kernel: rbf C: 0.5 Score: 0.7039106145251397\n",
            "kernel: rbf C: 1.0 Score: 0.6983240223463687\n",
            "kernel: sigmoid C: 0.01 Score: 0.5977653631284916\n",
            "kernel: sigmoid C: 0.1 Score: 0.5977653631284916\n"
          ]
        },
        {
          "output_type": "stream",
          "name": "stderr",
          "text": [
            "100%|██████████| 4/4 [00:05<00:00,  1.33s/it]"
          ]
        },
        {
          "output_type": "stream",
          "name": "stdout",
          "text": [
            "kernel: sigmoid C: 0.2 Score: 0.6033519553072626\n",
            "kernel: sigmoid C: 0.5 Score: 0.553072625698324\n",
            "kernel: sigmoid C: 1.0 Score: 0.547486033519553\n"
          ]
        },
        {
          "output_type": "stream",
          "name": "stderr",
          "text": [
            "\n"
          ]
        }
      ]
    },
    {
      "cell_type": "code",
      "source": [
        "#GridSearchCV 사용 방법\n",
        "#GridSearchCV는 완전자동화머신러닝 (AutoML, PyCaret 등)이 아니면 빈번하고 유용하게 쓰게 될 복합 메소드이므로 활용법을 숙지하자\n",
        "from sklearn.model_selection import GridSearchCV\n",
        "svc = svm.SVC()\n",
        "hparams = {\"kernel\" : [\"linear\", \"poly\", \"rbf\", \"sigmoid\"], \"C\" : [0.01, 0.1, 0.2, 0.5, 1.0]}\n",
        "\n",
        "#estimator : 사용 모델. 이미 객체 형태로 선언되어 있어야 함\n",
        "#param_grid: 하이퍼파라미터 집합. 리스트 형태를 딕셔너리로 싼 형태여야 함.\n",
        "#scoring: 점수 매기는 기준. accuracy, f1, macro_f1 등 여러 개를 활용할 수 있음. 평가기준이 주어지면 그걸 사용\n",
        "#cv: Cross Validation할 때 k의 개수.\n",
        "#refit: 찾게 된 최고의 하이퍼파라미터 집합을 활용해서 estimator 재학습할건지 여부 True or False의 불리언 변수로 웬만하면 True로 하자. \n",
        "#n_jobs: Parallel jobs의 수. 컴퓨터 연산성능 등에 관련된 지표- 중요하지 않음\n",
        "#verbose: 학습 process를 사용자에게 전달할 것인지에 대한 변수. 0이면 log 없음, 1이면 적당히 프린트,  2이면 많이 프린트 이런 느낌\n",
        "\n",
        "gscv_svc = GridSearchCV(estimator = svc, param_grid = hparams, scoring ='accuracy', cv = 3, refit = True, n_jobs = 1, verbose = 2)\n",
        "gscv_svc.fit(X_train, y_train)"
      ],
      "metadata": {
        "colab": {
          "base_uri": "https://localhost:8080/"
        },
        "id": "RpBBNVn5nopT",
        "outputId": "d9f726a6-af8e-43c0-fc3e-392c95a54fdf"
      },
      "execution_count": 53,
      "outputs": [
        {
          "output_type": "stream",
          "name": "stdout",
          "text": [
            "Fitting 3 folds for each of 20 candidates, totalling 60 fits\n",
            "[CV] END ..............................C=0.01, kernel=linear; total time=   0.0s\n",
            "[CV] END ..............................C=0.01, kernel=linear; total time=   0.0s\n",
            "[CV] END ..............................C=0.01, kernel=linear; total time=   0.0s\n",
            "[CV] END ................................C=0.01, kernel=poly; total time=   0.0s\n",
            "[CV] END ................................C=0.01, kernel=poly; total time=   0.0s\n",
            "[CV] END ................................C=0.01, kernel=poly; total time=   0.0s\n",
            "[CV] END .................................C=0.01, kernel=rbf; total time=   0.0s\n",
            "[CV] END .................................C=0.01, kernel=rbf; total time=   0.1s\n",
            "[CV] END .................................C=0.01, kernel=rbf; total time=   0.0s\n",
            "[CV] END .............................C=0.01, kernel=sigmoid; total time=   0.0s\n",
            "[CV] END .............................C=0.01, kernel=sigmoid; total time=   0.0s\n",
            "[CV] END .............................C=0.01, kernel=sigmoid; total time=   0.0s\n",
            "[CV] END ...............................C=0.1, kernel=linear; total time=   0.2s\n",
            "[CV] END ...............................C=0.1, kernel=linear; total time=   0.3s\n",
            "[CV] END ...............................C=0.1, kernel=linear; total time=   0.1s\n",
            "[CV] END .................................C=0.1, kernel=poly; total time=   0.0s\n",
            "[CV] END .................................C=0.1, kernel=poly; total time=   0.0s\n",
            "[CV] END .................................C=0.1, kernel=poly; total time=   0.0s\n",
            "[CV] END ..................................C=0.1, kernel=rbf; total time=   0.0s\n",
            "[CV] END ..................................C=0.1, kernel=rbf; total time=   0.0s\n",
            "[CV] END ..................................C=0.1, kernel=rbf; total time=   0.0s\n",
            "[CV] END ..............................C=0.1, kernel=sigmoid; total time=   0.1s\n",
            "[CV] END ..............................C=0.1, kernel=sigmoid; total time=   0.0s\n",
            "[CV] END ..............................C=0.1, kernel=sigmoid; total time=   0.0s\n",
            "[CV] END ...............................C=0.2, kernel=linear; total time=   0.8s\n",
            "[CV] END ...............................C=0.2, kernel=linear; total time=   2.6s\n",
            "[CV] END ...............................C=0.2, kernel=linear; total time=   0.2s\n",
            "[CV] END .................................C=0.2, kernel=poly; total time=   0.0s\n",
            "[CV] END .................................C=0.2, kernel=poly; total time=   0.0s\n",
            "[CV] END .................................C=0.2, kernel=poly; total time=   0.0s\n",
            "[CV] END ..................................C=0.2, kernel=rbf; total time=   0.0s\n",
            "[CV] END ..................................C=0.2, kernel=rbf; total time=   0.0s\n",
            "[CV] END ..................................C=0.2, kernel=rbf; total time=   0.0s\n",
            "[CV] END ..............................C=0.2, kernel=sigmoid; total time=   0.0s\n",
            "[CV] END ..............................C=0.2, kernel=sigmoid; total time=   0.0s\n",
            "[CV] END ..............................C=0.2, kernel=sigmoid; total time=   0.0s\n",
            "[CV] END ...............................C=0.5, kernel=linear; total time=   3.1s\n",
            "[CV] END ...............................C=0.5, kernel=linear; total time=   9.8s\n",
            "[CV] END ...............................C=0.5, kernel=linear; total time=   1.0s\n",
            "[CV] END .................................C=0.5, kernel=poly; total time=   0.0s\n",
            "[CV] END .................................C=0.5, kernel=poly; total time=   0.0s\n",
            "[CV] END .................................C=0.5, kernel=poly; total time=   0.0s\n",
            "[CV] END ..................................C=0.5, kernel=rbf; total time=   0.0s\n",
            "[CV] END ..................................C=0.5, kernel=rbf; total time=   0.0s\n",
            "[CV] END ..................................C=0.5, kernel=rbf; total time=   0.0s\n",
            "[CV] END ..............................C=0.5, kernel=sigmoid; total time=   0.0s\n",
            "[CV] END ..............................C=0.5, kernel=sigmoid; total time=   0.0s\n",
            "[CV] END ..............................C=0.5, kernel=sigmoid; total time=   0.0s\n",
            "[CV] END ...............................C=1.0, kernel=linear; total time=   6.3s\n",
            "[CV] END ...............................C=1.0, kernel=linear; total time=  15.9s\n",
            "[CV] END ...............................C=1.0, kernel=linear; total time=   0.8s\n",
            "[CV] END .................................C=1.0, kernel=poly; total time=   0.0s\n",
            "[CV] END .................................C=1.0, kernel=poly; total time=   0.0s\n",
            "[CV] END .................................C=1.0, kernel=poly; total time=   0.0s\n",
            "[CV] END ..................................C=1.0, kernel=rbf; total time=   0.0s\n",
            "[CV] END ..................................C=1.0, kernel=rbf; total time=   0.0s\n",
            "[CV] END ..................................C=1.0, kernel=rbf; total time=   0.0s\n",
            "[CV] END ..............................C=1.0, kernel=sigmoid; total time=   0.0s\n",
            "[CV] END ..............................C=1.0, kernel=sigmoid; total time=   0.0s\n",
            "[CV] END ..............................C=1.0, kernel=sigmoid; total time=   0.0s\n"
          ]
        },
        {
          "output_type": "execute_result",
          "data": {
            "text/plain": [
              "GridSearchCV(cv=3, estimator=SVC(), n_jobs=1,\n",
              "             param_grid={'C': [0.01, 0.1, 0.2, 0.5, 1.0],\n",
              "                         'kernel': ['linear', 'poly', 'rbf', 'sigmoid']},\n",
              "             scoring='accuracy', verbose=2)"
            ]
          },
          "metadata": {},
          "execution_count": 53
        }
      ]
    },
    {
      "cell_type": "code",
      "source": [
        "print('SVC 파라미터:', gscv_svc.best_params_)\n",
        "print('SVC 예측 정확도: {:.4f}'.format(gscv_svc.best_score_))"
      ],
      "metadata": {
        "colab": {
          "base_uri": "https://localhost:8080/"
        },
        "id": "XthPx5odosas",
        "outputId": "13ea0713-daf9-4946-ddcb-1513765cbe46"
      },
      "execution_count": 54,
      "outputs": [
        {
          "output_type": "stream",
          "name": "stdout",
          "text": [
            "SVC 파라미터: {'C': 0.5, 'kernel': 'linear'}\n",
            "SVC 예측 정확도: 0.7809\n"
          ]
        }
      ]
    },
    {
      "cell_type": "code",
      "source": [
        "#ightgbm에 적용\n",
        "param_lgb = {\"learning_rate\" : [0.01, 0.1, 0.2, 0.3, 0.4, 0.5],\n",
        "             \"max_depth\" : [25, 50, 75],\n",
        "             \"num_leaves\" : [100, 300, 500, 900, 1200],\n",
        "             \"n_estimators\" : [100, 200, 300, 500, 800, 1000],\n",
        "              }\n",
        "#learning rate : 학습률 \n",
        "#max_depth : 나무의 최대 층의 개수\n",
        "#num_leaves : 최대 이파리의 개수. 즉 최종 층에서 나뉘게 되는 잎의 개수\n",
        "#n_estimators : 나무의 개수\n",
        "\n",
        "LGB = lgb.LGBMClassifier()\n",
        "gscv_lgb = GridSearchCV(estimator = LGB, param_grid = param_lgb, scoring ='accuracy', cv = 3, refit = True, n_jobs = 1, verbose = 1)\n",
        "gscv_lgb.fit(X_train, y_train)"
      ],
      "metadata": {
        "colab": {
          "base_uri": "https://localhost:8080/"
        },
        "id": "_hSIWHQdovdb",
        "outputId": "1b20b918-6d31-4ada-d88f-837e8d871138"
      },
      "execution_count": 55,
      "outputs": [
        {
          "output_type": "stream",
          "name": "stdout",
          "text": [
            "Fitting 3 folds for each of 540 candidates, totalling 1620 fits\n"
          ]
        },
        {
          "output_type": "execute_result",
          "data": {
            "text/plain": [
              "GridSearchCV(cv=3, estimator=LGBMClassifier(), n_jobs=1,\n",
              "             param_grid={'learning_rate': [0.01, 0.1, 0.2, 0.3, 0.4, 0.5],\n",
              "                         'max_depth': [25, 50, 75],\n",
              "                         'n_estimators': [100, 200, 300, 500, 800, 1000],\n",
              "                         'num_leaves': [100, 300, 500, 900, 1200]},\n",
              "             scoring='accuracy', verbose=1)"
            ]
          },
          "metadata": {},
          "execution_count": 55
        }
      ]
    },
    {
      "cell_type": "code",
      "source": [
        "print('LGB 파라미터:', gscv_lgb.best_params_)\n",
        "print('LGB 예측 정확도: {:.4f}'.format(gscv_lgb.best_score_))"
      ],
      "metadata": {
        "colab": {
          "base_uri": "https://localhost:8080/"
        },
        "id": "eAH4PcYvo-IL",
        "outputId": "cc183a47-f427-4e09-99e5-b9257b89b2aa"
      },
      "execution_count": 56,
      "outputs": [
        {
          "output_type": "stream",
          "name": "stdout",
          "text": [
            "LGB 파라미터: {'learning_rate': 0.01, 'max_depth': 25, 'n_estimators': 500, 'num_leaves': 100}\n",
            "LGB 예측 정확도: 0.8174\n"
          ]
        }
      ]
    },
    {
      "cell_type": "code",
      "source": [
        "#PCA\n",
        "import numpy as np\n",
        "import random\n",
        "import pandas as pd\n",
        "import matplotlib.pyplot as plt\n",
        "import seaborn as sns\n",
        "from sklearn.linear_model import LinearRegression \n",
        "from sklearn.model_selection import train_test_split\n",
        "from sklearn.metrics import r2_score"
      ],
      "metadata": {
        "id": "U7HrKd5CpHaT"
      },
      "execution_count": 57,
      "outputs": []
    },
    {
      "cell_type": "code",
      "source": [
        "#평균이 60점 표준편차가 5인 국어 성적 100개 임의로 생성\n",
        "korean_array = np.array([np.random.normal(60, 5) for i in range(1000)]) \n",
        "#영어 성적은 국어 성적과 비슷하다는 가정에 맞게 살짝의 random noise만 더해준 상태\n",
        "english_array = korean_array + np.array([np.random.normal(0, 0.5) for i in range(1000)]) \n",
        "#수학-과학도 같은 방법 이용\n",
        "math_array = np.array([np.random.normal(70, 10) for i in range(1000)]) \n",
        "sci_array = math_array + np.array([np.random.normal(0, 0.5) for i in range(1000)]) \n",
        "#4개의 array로 데이터프레임 만들어서 확인해 보기\n",
        "fullscore = pd.DataFrame([korean_array, english_array, math_array, sci_array]).T\n",
        "fullscore.columns = [\"korean\", \"english\", \"math\", \"science\"]\n",
        "fullscore.head()"
      ],
      "metadata": {
        "colab": {
          "base_uri": "https://localhost:8080/",
          "height": 206
        },
        "id": "zCkgP73xpIdD",
        "outputId": "c7a130dc-cf56-42b2-e6b8-2e20d6446d60"
      },
      "execution_count": 58,
      "outputs": [
        {
          "output_type": "execute_result",
          "data": {
            "text/plain": [
              "      korean    english       math    science\n",
              "0  68.233378  67.850458  67.068694  66.990266\n",
              "1  60.498306  60.144591  65.139571  65.431108\n",
              "2  59.191512  59.786830  80.736589  79.785078\n",
              "3  65.807863  65.276732  74.334798  74.798861\n",
              "4  57.854950  57.945188  57.218782  56.651022"
            ],
            "text/html": [
              "\n",
              "  <div id=\"df-d3142909-6482-4723-bf5f-e5e9143e60c4\">\n",
              "    <div class=\"colab-df-container\">\n",
              "      <div>\n",
              "<style scoped>\n",
              "    .dataframe tbody tr th:only-of-type {\n",
              "        vertical-align: middle;\n",
              "    }\n",
              "\n",
              "    .dataframe tbody tr th {\n",
              "        vertical-align: top;\n",
              "    }\n",
              "\n",
              "    .dataframe thead th {\n",
              "        text-align: right;\n",
              "    }\n",
              "</style>\n",
              "<table border=\"1\" class=\"dataframe\">\n",
              "  <thead>\n",
              "    <tr style=\"text-align: right;\">\n",
              "      <th></th>\n",
              "      <th>korean</th>\n",
              "      <th>english</th>\n",
              "      <th>math</th>\n",
              "      <th>science</th>\n",
              "    </tr>\n",
              "  </thead>\n",
              "  <tbody>\n",
              "    <tr>\n",
              "      <th>0</th>\n",
              "      <td>68.233378</td>\n",
              "      <td>67.850458</td>\n",
              "      <td>67.068694</td>\n",
              "      <td>66.990266</td>\n",
              "    </tr>\n",
              "    <tr>\n",
              "      <th>1</th>\n",
              "      <td>60.498306</td>\n",
              "      <td>60.144591</td>\n",
              "      <td>65.139571</td>\n",
              "      <td>65.431108</td>\n",
              "    </tr>\n",
              "    <tr>\n",
              "      <th>2</th>\n",
              "      <td>59.191512</td>\n",
              "      <td>59.786830</td>\n",
              "      <td>80.736589</td>\n",
              "      <td>79.785078</td>\n",
              "    </tr>\n",
              "    <tr>\n",
              "      <th>3</th>\n",
              "      <td>65.807863</td>\n",
              "      <td>65.276732</td>\n",
              "      <td>74.334798</td>\n",
              "      <td>74.798861</td>\n",
              "    </tr>\n",
              "    <tr>\n",
              "      <th>4</th>\n",
              "      <td>57.854950</td>\n",
              "      <td>57.945188</td>\n",
              "      <td>57.218782</td>\n",
              "      <td>56.651022</td>\n",
              "    </tr>\n",
              "  </tbody>\n",
              "</table>\n",
              "</div>\n",
              "      <button class=\"colab-df-convert\" onclick=\"convertToInteractive('df-d3142909-6482-4723-bf5f-e5e9143e60c4')\"\n",
              "              title=\"Convert this dataframe to an interactive table.\"\n",
              "              style=\"display:none;\">\n",
              "        \n",
              "  <svg xmlns=\"http://www.w3.org/2000/svg\" height=\"24px\"viewBox=\"0 0 24 24\"\n",
              "       width=\"24px\">\n",
              "    <path d=\"M0 0h24v24H0V0z\" fill=\"none\"/>\n",
              "    <path d=\"M18.56 5.44l.94 2.06.94-2.06 2.06-.94-2.06-.94-.94-2.06-.94 2.06-2.06.94zm-11 1L8.5 8.5l.94-2.06 2.06-.94-2.06-.94L8.5 2.5l-.94 2.06-2.06.94zm10 10l.94 2.06.94-2.06 2.06-.94-2.06-.94-.94-2.06-.94 2.06-2.06.94z\"/><path d=\"M17.41 7.96l-1.37-1.37c-.4-.4-.92-.59-1.43-.59-.52 0-1.04.2-1.43.59L10.3 9.45l-7.72 7.72c-.78.78-.78 2.05 0 2.83L4 21.41c.39.39.9.59 1.41.59.51 0 1.02-.2 1.41-.59l7.78-7.78 2.81-2.81c.8-.78.8-2.07 0-2.86zM5.41 20L4 18.59l7.72-7.72 1.47 1.35L5.41 20z\"/>\n",
              "  </svg>\n",
              "      </button>\n",
              "      \n",
              "  <style>\n",
              "    .colab-df-container {\n",
              "      display:flex;\n",
              "      flex-wrap:wrap;\n",
              "      gap: 12px;\n",
              "    }\n",
              "\n",
              "    .colab-df-convert {\n",
              "      background-color: #E8F0FE;\n",
              "      border: none;\n",
              "      border-radius: 50%;\n",
              "      cursor: pointer;\n",
              "      display: none;\n",
              "      fill: #1967D2;\n",
              "      height: 32px;\n",
              "      padding: 0 0 0 0;\n",
              "      width: 32px;\n",
              "    }\n",
              "\n",
              "    .colab-df-convert:hover {\n",
              "      background-color: #E2EBFA;\n",
              "      box-shadow: 0px 1px 2px rgba(60, 64, 67, 0.3), 0px 1px 3px 1px rgba(60, 64, 67, 0.15);\n",
              "      fill: #174EA6;\n",
              "    }\n",
              "\n",
              "    [theme=dark] .colab-df-convert {\n",
              "      background-color: #3B4455;\n",
              "      fill: #D2E3FC;\n",
              "    }\n",
              "\n",
              "    [theme=dark] .colab-df-convert:hover {\n",
              "      background-color: #434B5C;\n",
              "      box-shadow: 0px 1px 3px 1px rgba(0, 0, 0, 0.15);\n",
              "      filter: drop-shadow(0px 1px 2px rgba(0, 0, 0, 0.3));\n",
              "      fill: #FFFFFF;\n",
              "    }\n",
              "  </style>\n",
              "\n",
              "      <script>\n",
              "        const buttonEl =\n",
              "          document.querySelector('#df-d3142909-6482-4723-bf5f-e5e9143e60c4 button.colab-df-convert');\n",
              "        buttonEl.style.display =\n",
              "          google.colab.kernel.accessAllowed ? 'block' : 'none';\n",
              "\n",
              "        async function convertToInteractive(key) {\n",
              "          const element = document.querySelector('#df-d3142909-6482-4723-bf5f-e5e9143e60c4');\n",
              "          const dataTable =\n",
              "            await google.colab.kernel.invokeFunction('convertToInteractive',\n",
              "                                                     [key], {});\n",
              "          if (!dataTable) return;\n",
              "\n",
              "          const docLinkHtml = 'Like what you see? Visit the ' +\n",
              "            '<a target=\"_blank\" href=https://colab.research.google.com/notebooks/data_table.ipynb>data table notebook</a>'\n",
              "            + ' to learn more about interactive tables.';\n",
              "          element.innerHTML = '';\n",
              "          dataTable['output_type'] = 'display_data';\n",
              "          await google.colab.output.renderOutput(dataTable, element);\n",
              "          const docLink = document.createElement('div');\n",
              "          docLink.innerHTML = docLinkHtml;\n",
              "          element.appendChild(docLink);\n",
              "        }\n",
              "      </script>\n",
              "    </div>\n",
              "  </div>\n",
              "  "
            ]
          },
          "metadata": {},
          "execution_count": 58
        }
      ]
    },
    {
      "cell_type": "code",
      "source": [
        "sns.heatmap(fullscore.corr(), cmap = \"Blues\") #공선상에 있는 것이 많아지면 곤란해짐"
      ],
      "metadata": {
        "colab": {
          "base_uri": "https://localhost:8080/",
          "height": 288
        },
        "id": "BVpgPFajpVQh",
        "outputId": "cb0ea674-5b4a-4222-85a0-9f68dd2be973"
      },
      "execution_count": 59,
      "outputs": [
        {
          "output_type": "execute_result",
          "data": {
            "text/plain": [
              "<AxesSubplot:>"
            ]
          },
          "metadata": {},
          "execution_count": 59
        },
        {
          "output_type": "display_data",
          "data": {
            "text/plain": [
              "<Figure size 432x288 with 2 Axes>"
            ],
            "image/png": "[encoded data removed]"
          },
          "metadata": {
            "needs_background": "light"
          }
        }
      ]
    },
    {
      "cell_type": "code",
      "source": [
        "from sklearn.preprocessing import StandardScaler #데이터 스케일링\n",
        "from sklearn.decomposition import PCA #PCA 패키지\n",
        "Scaler = StandardScaler()\n",
        "score_scaled = Scaler.fit_transform(fullscore)\n",
        "score_scaled"
      ],
      "metadata": {
        "colab": {
          "base_uri": "https://localhost:8080/"
        },
        "id": "OJQrXg6opcTP",
        "outputId": "b7669cb0-3ab2-449c-fd0a-7b18feb05dac"
      },
      "execution_count": 60,
      "outputs": [
        {
          "output_type": "execute_result",
          "data": {
            "text/plain": [
              "array([[ 1.65590842,  1.56662148, -0.29808657, -0.30752536],\n",
              "       [ 0.11505306,  0.043407  , -0.48498188, -0.45882161],\n",
              "       [-0.14526513, -0.0273114 ,  1.0260727 ,  0.93404694],\n",
              "       ...,\n",
              "       [-0.67680413, -0.56069229,  1.27824992,  1.27452848],\n",
              "       [ 0.15308844,  0.12582921, -0.62494159, -0.59870924],\n",
              "       [ 0.35109006,  0.37578592,  0.81285647,  0.85268678]])"
            ]
          },
          "metadata": {},
          "execution_count": 60
        }
      ]
    },
    {
      "cell_type": "code",
      "source": [
        "pca = PCA(n_components = 2) #주성분의 개수 - \"언어, 수리과학\"\n",
        "pca.fit(score_scaled) \n",
        "score_pca = pca.transform(score_scaled) \n",
        "print(score_pca.shape) #데이터의 개수는 똑같으면서 components (주성분)의 개수만 2개가 됨 - 차원 낮추기 성공"
      ],
      "metadata": {
        "colab": {
          "base_uri": "https://localhost:8080/"
        },
        "id": "tQK1Lmjppfhs",
        "outputId": "e121c0cf-b7a4-4347-c245-1e9526130dad"
      },
      "execution_count": 61,
      "outputs": [
        {
          "output_type": "stream",
          "name": "stdout",
          "text": [
            "(1000, 2)\n"
          ]
        }
      ]
    },
    {
      "cell_type": "code",
      "source": [
        "pca.explained_variance_ratio_ \n",
        "#분산비에 대한 해석\n",
        "#1번째 component로 전체 데이터의 분산을 52% 설명\n",
        "#2번째 component로 전체 데이터 분산을 47% 설명할 수 있다는 것. \n",
        "#단 두 개의 component로 원본 데이터의 100%를 설명할 수 있다"
      ],
      "metadata": {
        "colab": {
          "base_uri": "https://localhost:8080/"
        },
        "id": "WJad-nqGpf5T",
        "outputId": "7fd3e622-3671-46ce-fb67-dfb4bc722a51"
      },
      "execution_count": 62,
      "outputs": [
        {
          "output_type": "execute_result",
          "data": {
            "text/plain": [
              "array([0.50723952, 0.49122704])"
            ]
          },
          "metadata": {},
          "execution_count": 62
        }
      ]
    },
    {
      "cell_type": "code",
      "source": [
        "#components의 개수 역시 하이퍼파라미터 - 우리가 판단해서 정해야 함.\n",
        "#scree plot, 기여율, 고윳값, 모델 성능 등 다양한 기준으로 판단할 수 있음\n",
        "#누적 기여율 차원\n",
        "\n",
        "for i in range(1, 4): \n",
        "  score_scaled = Scaler.fit_transform(fullscore)\n",
        "  pca = PCA(n_components = i) \n",
        "  pca.fit(score_scaled)\n",
        "  score_pca = pca.transform(score_scaled)\n",
        "  print(i, \"개의 components로 분석한 분산비:\", pca.explained_variance_ratio_)"
      ],
      "metadata": {
        "colab": {
          "base_uri": "https://localhost:8080/"
        },
        "id": "NcB11U-gphbB",
        "outputId": "2f59a1d1-449a-4803-e9ff-388aabc9d6e4"
      },
      "execution_count": 63,
      "outputs": [
        {
          "output_type": "stream",
          "name": "stdout",
          "text": [
            "1 개의 components로 분석한 분산비: [0.50723952]\n",
            "2 개의 components로 분석한 분산비: [0.50723952 0.49122704]\n",
            "3 개의 components로 분석한 분산비: [0.50723952 0.49122704 0.00125861]\n"
          ]
        }
      ]
    },
    {
      "cell_type": "code",
      "source": [
        "#군집화\n",
        "from sklearn.datasets import make_blobs\n",
        "import matplotlib.pyplot as plt\n",
        "np.random.seed(8)\n",
        "X, y = make_blobs(n_samples= 1000, centers = 4, cluster_std = 0.9)\n",
        "plt.scatter(X[:, 0], X[:, 1], marker = \".\")\n",
        "plt.title(\"4 Clusters randomly generated\")\n",
        "plt.show()"
      ],
      "metadata": {
        "colab": {
          "base_uri": "https://localhost:8080/",
          "height": 281
        },
        "id": "Lo9pnbCupius",
        "outputId": "eab5d64d-144f-4b43-b653-86f65ce5495d"
      },
      "execution_count": 64,
      "outputs": [
        {
          "output_type": "display_data",
          "data": {
            "text/plain": [
              "<Figure size 432x288 with 1 Axes>"
            ],
            "image/png": "[encoded data removed]"
          },
          "metadata": {
            "needs_background": "light"
          }
        }
      ]
    },
    {
      "cell_type": "code",
      "source": [
        "def distance(a, b):\n",
        "  return sum((a-b)**2)/len(a)\n",
        "\n",
        "def group_center(g):\n",
        "  g = np.array(g)\n",
        "  return g.mean(axis = 0)\n",
        "\n",
        "def cluster(x, k, seed = 2022, iter_num = 25):\n",
        "  logs = []\n",
        "  np.random.seed(seed)\n",
        "  centers = x[np.random.choice(len(x), size = k, replace=False)]\n",
        "  for it in range(iter_num):\n",
        "    group = {}\n",
        "    for i in range(k):\n",
        "      group[i] = []\n",
        "    # find nearest center\n",
        "    for row in x:\n",
        "      temp = []\n",
        "      for i in range(k):\n",
        "        temp.append(distance(centers[i], row))\n",
        "      group[np.argmin(temp)].append(row.tolist())\n",
        "\n",
        "    # plot data store\n",
        "    for i in range(k):\n",
        "      group_temp = np.array(group[i])\n",
        "      group_temp = np.c_[group_temp, np.full(len(group_temp), i)]\n",
        "      if i == 0:\n",
        "        grouped = group_temp\n",
        "      else:\n",
        "        grouped = np.append(grouped, group_temp, axis = 0)\n",
        "\n",
        "    # update center\n",
        "    centers_new = []\n",
        "    for i in range(k):\n",
        "      centers_new.append(group_center(group[i]).tolist())\n",
        "    centers_new = np.array(centers_new)\n",
        "    # if updated center == center, break\n",
        "\n",
        "    if np.sum(centers - centers_new) == 0:\n",
        "      break\n",
        "    else:\n",
        "      centers = centers_new\n",
        "      logs.append(grouped)\n",
        "  return grouped, logs, it  \n",
        "\n",
        "grouped, logs, it = cluster(X, 4)\n",
        "print(f'iter num:{it}')"
      ],
      "metadata": {
        "colab": {
          "base_uri": "https://localhost:8080/"
        },
        "id": "V0V3IkDApkzA",
        "outputId": "428ea20c-ee28-475a-9b7a-ddae38e49b5a"
      },
      "execution_count": 65,
      "outputs": [
        {
          "output_type": "stream",
          "name": "stdout",
          "text": [
            "iter num:1\n"
          ]
        }
      ]
    },
    {
      "cell_type": "code",
      "source": [
        "import seaborn as sns\n",
        "plt.figure(figsize=(15,8))\n",
        "for i in range(it):\n",
        "    plt.subplot(2, it//2+1, i+1)  # row, col, index\n",
        "    df = pd.DataFrame(logs[i])\n",
        "    df.columns = ['x1', 'x2', 'group']\n",
        "    sns.scatterplot(data = df, x = 'x1', y = 'x2', hue = 'group').set_title(f'iter: {i}')"
      ],
      "metadata": {
        "colab": {
          "base_uri": "https://localhost:8080/",
          "height": 276
        },
        "id": "Z-aAJOWUpmEq",
        "outputId": "6feccfa0-9c1b-4fdc-9fe8-a7c5a05f982f"
      },
      "execution_count": 66,
      "outputs": [
        {
          "output_type": "display_data",
          "data": {
            "text/plain": [
              "<Figure size 1080x576 with 1 Axes>"
            ],
            "image/png": "[encoded data removed]"
          },
          "metadata": {
            "needs_background": "light"
          }
        }
      ]
    },
    {
      "cell_type": "code",
      "source": [
        "#라이브러리 활용\n",
        "from sklearn.preprocessing import scale\n",
        "from sklearn.datasets import load_iris\n",
        "from sklearn.cluster import KMeans\n",
        "import matplotlib.pyplot as plt\n",
        "iris = load_iris() #iris 데이터 불러오기\n",
        "irisDF = pd.DataFrame(data = iris.data, columns = [\"sepal_length\", \"sepal_width\", \"petal_length\", \"petal_width\"])\n",
        "irisDF.head(3)\n",
        "#붓꽃 데이터의 정보를 4가지 feature로 정리한 데이터셋- 정답 레이블 없음\n",
        "#우리의 목적은 irisDF내에 있는 수많은 데이터포인트(붓꽃)들을 비슷한 것끼리 묶는 것\n",
        "#총 3개의 종류가 있다는 것을 알고 있음"
      ],
      "metadata": {
        "colab": {
          "base_uri": "https://localhost:8080/",
          "height": 143
        },
        "id": "nH2cpOa8poUq",
        "outputId": "acfc7319-0378-42c5-a56f-ae007b05d47b"
      },
      "execution_count": 67,
      "outputs": [
        {
          "output_type": "execute_result",
          "data": {
            "text/plain": [
              "   sepal_length  sepal_width  petal_length  petal_width\n",
              "0           5.1          3.5           1.4          0.2\n",
              "1           4.9          3.0           1.4          0.2\n",
              "2           4.7          3.2           1.3          0.2"
            ],
            "text/html": [
              "\n",
              "  <div id=\"df-0cb21c48-87fe-4b2d-8dcd-fa95d815a9c0\">\n",
              "    <div class=\"colab-df-container\">\n",
              "      <div>\n",
              "<style scoped>\n",
              "    .dataframe tbody tr th:only-of-type {\n",
              "        vertical-align: middle;\n",
              "    }\n",
              "\n",
              "    .dataframe tbody tr th {\n",
              "        vertical-align: top;\n",
              "    }\n",
              "\n",
              "    .dataframe thead th {\n",
              "        text-align: right;\n",
              "    }\n",
              "</style>\n",
              "<table border=\"1\" class=\"dataframe\">\n",
              "  <thead>\n",
              "    <tr style=\"text-align: right;\">\n",
              "      <th></th>\n",
              "      <th>sepal_length</th>\n",
              "      <th>sepal_width</th>\n",
              "      <th>petal_length</th>\n",
              "      <th>petal_width</th>\n",
              "    </tr>\n",
              "  </thead>\n",
              "  <tbody>\n",
              "    <tr>\n",
              "      <th>0</th>\n",
              "      <td>5.1</td>\n",
              "      <td>3.5</td>\n",
              "      <td>1.4</td>\n",
              "      <td>0.2</td>\n",
              "    </tr>\n",
              "    <tr>\n",
              "      <th>1</th>\n",
              "      <td>4.9</td>\n",
              "      <td>3.0</td>\n",
              "      <td>1.4</td>\n",
              "      <td>0.2</td>\n",
              "    </tr>\n",
              "    <tr>\n",
              "      <th>2</th>\n",
              "      <td>4.7</td>\n",
              "      <td>3.2</td>\n",
              "      <td>1.3</td>\n",
              "      <td>0.2</td>\n",
              "    </tr>\n",
              "  </tbody>\n",
              "</table>\n",
              "</div>\n",
              "      <button class=\"colab-df-convert\" onclick=\"convertToInteractive('df-0cb21c48-87fe-4b2d-8dcd-fa95d815a9c0')\"\n",
              "              title=\"Convert this dataframe to an interactive table.\"\n",
              "              style=\"display:none;\">\n",
              "        \n",
              "  <svg xmlns=\"http://www.w3.org/2000/svg\" height=\"24px\"viewBox=\"0 0 24 24\"\n",
              "       width=\"24px\">\n",
              "    <path d=\"M0 0h24v24H0V0z\" fill=\"none\"/>\n",
              "    <path d=\"M18.56 5.44l.94 2.06.94-2.06 2.06-.94-2.06-.94-.94-2.06-.94 2.06-2.06.94zm-11 1L8.5 8.5l.94-2.06 2.06-.94-2.06-.94L8.5 2.5l-.94 2.06-2.06.94zm10 10l.94 2.06.94-2.06 2.06-.94-2.06-.94-.94-2.06-.94 2.06-2.06.94z\"/><path d=\"M17.41 7.96l-1.37-1.37c-.4-.4-.92-.59-1.43-.59-.52 0-1.04.2-1.43.59L10.3 9.45l-7.72 7.72c-.78.78-.78 2.05 0 2.83L4 21.41c.39.39.9.59 1.41.59.51 0 1.02-.2 1.41-.59l7.78-7.78 2.81-2.81c.8-.78.8-2.07 0-2.86zM5.41 20L4 18.59l7.72-7.72 1.47 1.35L5.41 20z\"/>\n",
              "  </svg>\n",
              "      </button>\n",
              "      \n",
              "  <style>\n",
              "    .colab-df-container {\n",
              "      display:flex;\n",
              "      flex-wrap:wrap;\n",
              "      gap: 12px;\n",
              "    }\n",
              "\n",
              "    .colab-df-convert {\n",
              "      background-color: #E8F0FE;\n",
              "      border: none;\n",
              "      border-radius: 50%;\n",
              "      cursor: pointer;\n",
              "      display: none;\n",
              "      fill: #1967D2;\n",
              "      height: 32px;\n",
              "      padding: 0 0 0 0;\n",
              "      width: 32px;\n",
              "    }\n",
              "\n",
              "    .colab-df-convert:hover {\n",
              "      background-color: #E2EBFA;\n",
              "      box-shadow: 0px 1px 2px rgba(60, 64, 67, 0.3), 0px 1px 3px 1px rgba(60, 64, 67, 0.15);\n",
              "      fill: #174EA6;\n",
              "    }\n",
              "\n",
              "    [theme=dark] .colab-df-convert {\n",
              "      background-color: #3B4455;\n",
              "      fill: #D2E3FC;\n",
              "    }\n",
              "\n",
              "    [theme=dark] .colab-df-convert:hover {\n",
              "      background-color: #434B5C;\n",
              "      box-shadow: 0px 1px 3px 1px rgba(0, 0, 0, 0.15);\n",
              "      filter: drop-shadow(0px 1px 2px rgba(0, 0, 0, 0.3));\n",
              "      fill: #FFFFFF;\n",
              "    }\n",
              "  </style>\n",
              "\n",
              "      <script>\n",
              "        const buttonEl =\n",
              "          document.querySelector('#df-0cb21c48-87fe-4b2d-8dcd-fa95d815a9c0 button.colab-df-convert');\n",
              "        buttonEl.style.display =\n",
              "          google.colab.kernel.accessAllowed ? 'block' : 'none';\n",
              "\n",
              "        async function convertToInteractive(key) {\n",
              "          const element = document.querySelector('#df-0cb21c48-87fe-4b2d-8dcd-fa95d815a9c0');\n",
              "          const dataTable =\n",
              "            await google.colab.kernel.invokeFunction('convertToInteractive',\n",
              "                                                     [key], {});\n",
              "          if (!dataTable) return;\n",
              "\n",
              "          const docLinkHtml = 'Like what you see? Visit the ' +\n",
              "            '<a target=\"_blank\" href=https://colab.research.google.com/notebooks/data_table.ipynb>data table notebook</a>'\n",
              "            + ' to learn more about interactive tables.';\n",
              "          element.innerHTML = '';\n",
              "          dataTable['output_type'] = 'display_data';\n",
              "          await google.colab.output.renderOutput(dataTable, element);\n",
              "          const docLink = document.createElement('div');\n",
              "          docLink.innerHTML = docLinkHtml;\n",
              "          element.appendChild(docLink);\n",
              "        }\n",
              "      </script>\n",
              "    </div>\n",
              "  </div>\n",
              "  "
            ]
          },
          "metadata": {},
          "execution_count": 67
        }
      ]
    },
    {
      "cell_type": "code",
      "source": [
        "kmeans = KMeans(n_clusters = 3, init = \"k-means++\", max_iter = 300, random_state = 0) \n",
        "kmeans.fit(irisDF)\n",
        "#init은 초기 cluster point를 어떻게 설정할 것이냐에 관한 것\n",
        "#k-means++는 기존 kmeans에서 제공하는 경험적 포인트 위치 - 'random'으로 쓰면 랜덤 포인트로 설정함.\n",
        "#max_iter 는 최대 반복횟수 - 즉 얼마나 많이 클러스터 중점을 옮길 것이냐에 관한 것"
      ],
      "metadata": {
        "colab": {
          "base_uri": "https://localhost:8080/"
        },
        "id": "J-_Yi8BUpoQI",
        "outputId": "5218b96b-f96c-4599-c1ec-5295ba670964"
      },
      "execution_count": 68,
      "outputs": [
        {
          "output_type": "execute_result",
          "data": {
            "text/plain": [
              "KMeans(n_clusters=3, random_state=0)"
            ]
          },
          "metadata": {},
          "execution_count": 68
        }
      ]
    },
    {
      "cell_type": "code",
      "source": [
        "print(kmeans.labels_)"
      ],
      "metadata": {
        "colab": {
          "base_uri": "https://localhost:8080/"
        },
        "id": "zWP4Dpb7pp9A",
        "outputId": "e9790ef2-0f71-49b6-c8d6-ec71f068ce8e"
      },
      "execution_count": 69,
      "outputs": [
        {
          "output_type": "stream",
          "name": "stdout",
          "text": [
            "[1 1 1 1 1 1 1 1 1 1 1 1 1 1 1 1 1 1 1 1 1 1 1 1 1 1 1 1 1 1 1 1 1 1 1 1 1\n",
            " 1 1 1 1 1 1 1 1 1 1 1 1 1 0 0 2 0 0 0 0 0 0 0 0 0 0 0 0 0 0 0 0 0 0 0 0 0\n",
            " 0 0 0 2 0 0 0 0 0 0 0 0 0 0 0 0 0 0 0 0 0 0 0 0 0 0 2 0 2 2 2 2 0 2 2 2 2\n",
            " 2 2 0 0 2 2 2 2 0 2 0 2 0 2 2 0 0 2 2 2 2 2 0 2 2 2 2 0 2 2 2 0 2 2 2 0 2\n",
            " 2 0]\n"
          ]
        }
      ]
    },
    {
      "cell_type": "code",
      "source": [
        "irisDF[\"target\"] = iris.target #실제 데이터셋에 이미 0, 1, 2로 분류해 놓은 붓꽃 품종이 있음. 군집화 성능평가를 위해 위에서는 없는 척함\n",
        "irisDF[\"cluster\"] = kmeans.labels_ #군집화 모델링을 통해 얻어낸 라벨 - 라벨이 target과 일치하면 우리의 군집화 성능이 뛰어나다고 판단\n",
        "iris_result = irisDF.groupby([\"target\", \"cluster\"])[\"sepal_length\"].count() \n",
        "print(iris_result)\n",
        "#결과를 해석하면 target이 0인 건 1인 케이스도 어느 정도 잘 되었으나, target이 2인 케이스는 군집화가 썩 잘 되지 않았다는 것을 확인할 수 있음. "
      ],
      "metadata": {
        "colab": {
          "base_uri": "https://localhost:8080/"
        },
        "id": "NG32jPu9prUl",
        "outputId": "96fca1b5-c6f2-4b6a-e15e-0fb8c9f14d78"
      },
      "execution_count": 70,
      "outputs": [
        {
          "output_type": "stream",
          "name": "stdout",
          "text": [
            "target  cluster\n",
            "0       1          50\n",
            "1       0          48\n",
            "        2           2\n",
            "2       0          14\n",
            "        2          36\n",
            "Name: sepal_length, dtype: int64\n"
          ]
        }
      ]
    },
    {
      "cell_type": "code",
      "source": [
        "irisDF.head()"
      ],
      "metadata": {
        "colab": {
          "base_uri": "https://localhost:8080/",
          "height": 206
        },
        "id": "Hma52a0epssq",
        "outputId": "8944eb1e-35fb-433a-f6f9-61059eab87b4"
      },
      "execution_count": 71,
      "outputs": [
        {
          "output_type": "execute_result",
          "data": {
            "text/plain": [
              "   sepal_length  sepal_width  petal_length  petal_width  target  cluster\n",
              "0           5.1          3.5           1.4          0.2       0        1\n",
              "1           4.9          3.0           1.4          0.2       0        1\n",
              "2           4.7          3.2           1.3          0.2       0        1\n",
              "3           4.6          3.1           1.5          0.2       0        1\n",
              "4           5.0          3.6           1.4          0.2       0        1"
            ],
            "text/html": [
              "\n",
              "  <div id=\"df-1cc1207c-2648-410c-b4a1-90ff59a2ac84\">\n",
              "    <div class=\"colab-df-container\">\n",
              "      <div>\n",
              "<style scoped>\n",
              "    .dataframe tbody tr th:only-of-type {\n",
              "        vertical-align: middle;\n",
              "    }\n",
              "\n",
              "    .dataframe tbody tr th {\n",
              "        vertical-align: top;\n",
              "    }\n",
              "\n",
              "    .dataframe thead th {\n",
              "        text-align: right;\n",
              "    }\n",
              "</style>\n",
              "<table border=\"1\" class=\"dataframe\">\n",
              "  <thead>\n",
              "    <tr style=\"text-align: right;\">\n",
              "      <th></th>\n",
              "      <th>sepal_length</th>\n",
              "      <th>sepal_width</th>\n",
              "      <th>petal_length</th>\n",
              "      <th>petal_width</th>\n",
              "      <th>target</th>\n",
              "      <th>cluster</th>\n",
              "    </tr>\n",
              "  </thead>\n",
              "  <tbody>\n",
              "    <tr>\n",
              "      <th>0</th>\n",
              "      <td>5.1</td>\n",
              "      <td>3.5</td>\n",
              "      <td>1.4</td>\n",
              "      <td>0.2</td>\n",
              "      <td>0</td>\n",
              "      <td>1</td>\n",
              "    </tr>\n",
              "    <tr>\n",
              "      <th>1</th>\n",
              "      <td>4.9</td>\n",
              "      <td>3.0</td>\n",
              "      <td>1.4</td>\n",
              "      <td>0.2</td>\n",
              "      <td>0</td>\n",
              "      <td>1</td>\n",
              "    </tr>\n",
              "    <tr>\n",
              "      <th>2</th>\n",
              "      <td>4.7</td>\n",
              "      <td>3.2</td>\n",
              "      <td>1.3</td>\n",
              "      <td>0.2</td>\n",
              "      <td>0</td>\n",
              "      <td>1</td>\n",
              "    </tr>\n",
              "    <tr>\n",
              "      <th>3</th>\n",
              "      <td>4.6</td>\n",
              "      <td>3.1</td>\n",
              "      <td>1.5</td>\n",
              "      <td>0.2</td>\n",
              "      <td>0</td>\n",
              "      <td>1</td>\n",
              "    </tr>\n",
              "    <tr>\n",
              "      <th>4</th>\n",
              "      <td>5.0</td>\n",
              "      <td>3.6</td>\n",
              "      <td>1.4</td>\n",
              "      <td>0.2</td>\n",
              "      <td>0</td>\n",
              "      <td>1</td>\n",
              "    </tr>\n",
              "  </tbody>\n",
              "</table>\n",
              "</div>\n",
              "      <button class=\"colab-df-convert\" onclick=\"convertToInteractive('df-1cc1207c-2648-410c-b4a1-90ff59a2ac84')\"\n",
              "              title=\"Convert this dataframe to an interactive table.\"\n",
              "              style=\"display:none;\">\n",
              "        \n",
              "  <svg xmlns=\"http://www.w3.org/2000/svg\" height=\"24px\"viewBox=\"0 0 24 24\"\n",
              "       width=\"24px\">\n",
              "    <path d=\"M0 0h24v24H0V0z\" fill=\"none\"/>\n",
              "    <path d=\"M18.56 5.44l.94 2.06.94-2.06 2.06-.94-2.06-.94-.94-2.06-.94 2.06-2.06.94zm-11 1L8.5 8.5l.94-2.06 2.06-.94-2.06-.94L8.5 2.5l-.94 2.06-2.06.94zm10 10l.94 2.06.94-2.06 2.06-.94-2.06-.94-.94-2.06-.94 2.06-2.06.94z\"/><path d=\"M17.41 7.96l-1.37-1.37c-.4-.4-.92-.59-1.43-.59-.52 0-1.04.2-1.43.59L10.3 9.45l-7.72 7.72c-.78.78-.78 2.05 0 2.83L4 21.41c.39.39.9.59 1.41.59.51 0 1.02-.2 1.41-.59l7.78-7.78 2.81-2.81c.8-.78.8-2.07 0-2.86zM5.41 20L4 18.59l7.72-7.72 1.47 1.35L5.41 20z\"/>\n",
              "  </svg>\n",
              "      </button>\n",
              "      \n",
              "  <style>\n",
              "    .colab-df-container {\n",
              "      display:flex;\n",
              "      flex-wrap:wrap;\n",
              "      gap: 12px;\n",
              "    }\n",
              "\n",
              "    .colab-df-convert {\n",
              "      background-color: #E8F0FE;\n",
              "      border: none;\n",
              "      border-radius: 50%;\n",
              "      cursor: pointer;\n",
              "      display: none;\n",
              "      fill: #1967D2;\n",
              "      height: 32px;\n",
              "      padding: 0 0 0 0;\n",
              "      width: 32px;\n",
              "    }\n",
              "\n",
              "    .colab-df-convert:hover {\n",
              "      background-color: #E2EBFA;\n",
              "      box-shadow: 0px 1px 2px rgba(60, 64, 67, 0.3), 0px 1px 3px 1px rgba(60, 64, 67, 0.15);\n",
              "      fill: #174EA6;\n",
              "    }\n",
              "\n",
              "    [theme=dark] .colab-df-convert {\n",
              "      background-color: #3B4455;\n",
              "      fill: #D2E3FC;\n",
              "    }\n",
              "\n",
              "    [theme=dark] .colab-df-convert:hover {\n",
              "      background-color: #434B5C;\n",
              "      box-shadow: 0px 1px 3px 1px rgba(0, 0, 0, 0.15);\n",
              "      filter: drop-shadow(0px 1px 2px rgba(0, 0, 0, 0.3));\n",
              "      fill: #FFFFFF;\n",
              "    }\n",
              "  </style>\n",
              "\n",
              "      <script>\n",
              "        const buttonEl =\n",
              "          document.querySelector('#df-1cc1207c-2648-410c-b4a1-90ff59a2ac84 button.colab-df-convert');\n",
              "        buttonEl.style.display =\n",
              "          google.colab.kernel.accessAllowed ? 'block' : 'none';\n",
              "\n",
              "        async function convertToInteractive(key) {\n",
              "          const element = document.querySelector('#df-1cc1207c-2648-410c-b4a1-90ff59a2ac84');\n",
              "          const dataTable =\n",
              "            await google.colab.kernel.invokeFunction('convertToInteractive',\n",
              "                                                     [key], {});\n",
              "          if (!dataTable) return;\n",
              "\n",
              "          const docLinkHtml = 'Like what you see? Visit the ' +\n",
              "            '<a target=\"_blank\" href=https://colab.research.google.com/notebooks/data_table.ipynb>data table notebook</a>'\n",
              "            + ' to learn more about interactive tables.';\n",
              "          element.innerHTML = '';\n",
              "          dataTable['output_type'] = 'display_data';\n",
              "          await google.colab.output.renderOutput(dataTable, element);\n",
              "          const docLink = document.createElement('div');\n",
              "          docLink.innerHTML = docLinkHtml;\n",
              "          element.appendChild(docLink);\n",
              "        }\n",
              "      </script>\n",
              "    </div>\n",
              "  </div>\n",
              "  "
            ]
          },
          "metadata": {},
          "execution_count": 71
        }
      ]
    },
    {
      "cell_type": "code",
      "source": [
        "from sklearn.metrics import silhouette_score\n",
        " \n",
        "#1일 때 제일 좋고 -1일 때 제일 나쁨\n",
        "labels = kmeans.labels_\n",
        "silhouette_score(irisDF.iloc[:, :-2], labels, metric='euclidean')"
      ],
      "metadata": {
        "colab": {
          "base_uri": "https://localhost:8080/"
        },
        "id": "KG1NZXLIpuOB",
        "outputId": "cd613d34-ab22-4a48-e90b-de967ea2936d"
      },
      "execution_count": 72,
      "outputs": [
        {
          "output_type": "execute_result",
          "data": {
            "text/plain": [
              "0.5528190123564095"
            ]
          },
          "metadata": {},
          "execution_count": 72
        }
      ]
    },
    {
      "cell_type": "code",
      "source": [
        "for i in range(2, 4):\n",
        "  kmeans = KMeans(n_clusters = i, init = \"k-means++\", max_iter = 300, random_state = 0) \n",
        "  kmeans.fit(irisDF)\n",
        "  labels = kmeans.labels_\n",
        "  print(i, \"개 클러스터일 때의 실루엣 계수는: \", silhouette_score(irisDF.iloc[:, :-2], labels, metric = \"euclidean\"))\n",
        "\n",
        "#2개로 나누는 것이 제일좋음"
      ],
      "metadata": {
        "colab": {
          "base_uri": "https://localhost:8080/"
        },
        "id": "d0tGinF-pveT",
        "outputId": "289d5f0f-d797-4b43-802f-39106c85adbd"
      },
      "execution_count": 73,
      "outputs": [
        {
          "output_type": "stream",
          "name": "stdout",
          "text": [
            "2 개 클러스터일 때의 실루엣 계수는:  0.6857881712617192\n",
            "3 개 클러스터일 때의 실루엣 계수는:  0.5528190123564095\n"
          ]
        }
      ]
    },
    {
      "cell_type": "markdown",
      "source": [
        "## 1. https://www.notion.so/deepdaiv/4efbe5caadfc44758b978a594fcdf486?pvs=4#aa4f126b43f242f6866aa2d4c3eb0090 에서 CC General 데이터셋을 다운받고 데이터프레임 형식으로 만들어라."
      ],
      "metadata": {
        "id": "PzRmdUKWcR_j"
      }
    },
    {
      "cell_type": "code",
      "source": [
        "df = pd.read_csv(\"/content/gdrive/MyDrive/Colab Notebooks/CC GENERAL.csv\")"
      ],
      "metadata": {
        "id": "Jw-HOG2AOFmV"
      },
      "execution_count": 3,
      "outputs": []
    },
    {
      "cell_type": "code",
      "source": [
        "#이 데이터셋은 소비자층 분류를 통해 마케팅 전략을 짜기 위한 정보를 담고 있다. \n",
        "#약 9000명 정도의 소비자들의 정보가 담겨 있으며, 자세한 컬럼 설명은 아래에 있다.\n",
        "\"\"\"\n",
        "CUSTID: Identification of Credit Cardholder (Categorical)\n",
        "BALANCE: Balance amount left in their account to make purchases\n",
        "BALANCEFREQUENCY: How frequently the Balance is updated, score between 0 and 1 (1 = frequently updated, 0 = not frequently updated)\n",
        "PURCHASES: Amount of purchases made from the account\n",
        "ONEOFFPURCHASES: Maximum purchase amount did in one-go\n",
        "INSTALLMENTSPURCHASES: Amount of purchase done in installment\n",
        "CASH ADVANCE: Cash in advance given by the user\n",
        "PURCHASESFREQUENCY: How frequently the Purchases are being made score between 0 and 1 (1 = frequently purchased, 0 = not frequently purchased)\n",
        "ONEOFFPURCHASESFREQUENCY: How frequently Purchases are happening in one go (1 = frequently purchased, 0 = not frequently purchased)\n",
        "PURCHASESINSTALLMENTSFREQUENCY: How frequently purchases in installments are being done (1 = frequently done, 0 = not frequently done)\n",
        "CASHADVANCEFREQUENCY: How frequently is the cash in advance being paid\n",
        "CASHADVANCETRX: Number of Transactions made with \"Cash in Advanced\"\n",
        "PURCHASESTRX: Number of purchase transactions made\n",
        "CREDIT LIMIT: Limit of Credit Card for user\n",
        "PAYMENTS: Amount of Payment done by the user\n",
        "MINIMUM_PAYMENTS: Minimum amount of payments made by the user\n",
        "PRCFULLPAYMENT: Percent of full payment paid by the user\n",
        "TENURE: Tenure of credit card service for user\n",
        "\"\"\""
      ],
      "metadata": {
        "id": "BXBfTAKrchFb",
        "colab": {
          "base_uri": "https://localhost:8080/",
          "height": 148
        },
        "outputId": "363d25ca-2fca-470f-93a2-0da9a8bc72de"
      },
      "execution_count": 4,
      "outputs": [
        {
          "output_type": "execute_result",
          "data": {
            "text/plain": [
              "'\\nCUSTID: Identification of Credit Cardholder (Categorical)\\nBALANCE: Balance amount left in their account to make purchases\\nBALANCEFREQUENCY: How frequently the Balance is updated, score between 0 and 1 (1 = frequently updated, 0 = not frequently updated)\\nPURCHASES: Amount of purchases made from the account\\nONEOFFPURCHASES: Maximum purchase amount did in one-go\\nINSTALLMENTSPURCHASES: Amount of purchase done in installment\\nCASH ADVANCE: Cash in advance given by the user\\nPURCHASESFREQUENCY: How frequently the Purchases are being made score between 0 and 1 (1 = frequently purchased, 0 = not frequently purchased)\\nONEOFFPURCHASESFREQUENCY: How frequently Purchases are happening in one go (1 = frequently purchased, 0 = not frequently purchased)\\nPURCHASESINSTALLMENTSFREQUENCY: How frequently purchases in installments are being done (1 = frequently done, 0 = not frequently done)\\nCASHADVANCEFREQUENCY: How frequently is the cash in advance being paid\\nCASHADVANCETRX: Number of Transactions made with \"Cash in Advanced\"\\nPURCHASESTRX: Number of purchase transactions made\\nCREDIT LIMIT: Limit of Credit Card for user\\nPAYMENTS: Amount of Payment done by the user\\nMINIMUM_PAYMENTS: Minimum amount of payments made by the user\\nPRCFULLPAYMENT: Percent of full payment paid by the user\\nTENURE: Tenure of credit card service for user\\n'"
            ],
            "application/vnd.google.colaboratory.intrinsic+json": {
              "type": "string"
            }
          },
          "metadata": {},
          "execution_count": 4
        }
      ]
    },
    {
      "cell_type": "markdown",
      "source": [
        "# 2. info와 describe 등으로 데이터의 형태를 파악하라. 또한 데이터의 결측치를 확인하고 대체한 뒤 대체 방식의 근거를 제시하라."
      ],
      "metadata": {
        "id": "f8fVo0PGc9Qs"
      }
    },
    {
      "cell_type": "code",
      "source": [
        "df.info() #float 위주의 데이터로 구성, int 3개 object 1개 "
      ],
      "metadata": {
        "colab": {
          "base_uri": "https://localhost:8080/"
        },
        "id": "8ei2ejntQccJ",
        "outputId": "a04e5aa9-cb57-4e60-af65-67879038f41b"
      },
      "execution_count": 5,
      "outputs": [
        {
          "output_type": "stream",
          "name": "stdout",
          "text": [
            "<class 'pandas.core.frame.DataFrame'>\n",
            "RangeIndex: 8950 entries, 0 to 8949\n",
            "Data columns (total 18 columns):\n",
            " #   Column                            Non-Null Count  Dtype  \n",
            "---  ------                            --------------  -----  \n",
            " 0   CUST_ID                           8950 non-null   object \n",
            " 1   BALANCE                           8950 non-null   float64\n",
            " 2   BALANCE_FREQUENCY                 8950 non-null   float64\n",
            " 3   PURCHASES                         8950 non-null   float64\n",
            " 4   ONEOFF_PURCHASES                  8950 non-null   float64\n",
            " 5   INSTALLMENTS_PURCHASES            8950 non-null   float64\n",
            " 6   CASH_ADVANCE                      8950 non-null   float64\n",
            " 7   PURCHASES_FREQUENCY               8950 non-null   float64\n",
            " 8   ONEOFF_PURCHASES_FREQUENCY        8950 non-null   float64\n",
            " 9   PURCHASES_INSTALLMENTS_FREQUENCY  8950 non-null   float64\n",
            " 10  CASH_ADVANCE_FREQUENCY            8950 non-null   float64\n",
            " 11  CASH_ADVANCE_TRX                  8950 non-null   int64  \n",
            " 12  PURCHASES_TRX                     8950 non-null   int64  \n",
            " 13  CREDIT_LIMIT                      8949 non-null   float64\n",
            " 14  PAYMENTS                          8950 non-null   float64\n",
            " 15  MINIMUM_PAYMENTS                  8637 non-null   float64\n",
            " 16  PRC_FULL_PAYMENT                  8950 non-null   float64\n",
            " 17  TENURE                            8950 non-null   int64  \n",
            "dtypes: float64(14), int64(3), object(1)\n",
            "memory usage: 1.2+ MB\n"
          ]
        }
      ]
    },
    {
      "cell_type": "code",
      "source": [
        "#describe 확인\n",
        "df.describe()"
      ],
      "metadata": {
        "colab": {
          "base_uri": "https://localhost:8080/",
          "height": 0
        },
        "id": "WvExvUtOQoPS",
        "outputId": "5b227b9d-ba6a-4b5f-9046-8835c805ed33"
      },
      "execution_count": 6,
      "outputs": [
        {
          "output_type": "execute_result",
          "data": {
            "text/plain": [
              "            BALANCE  BALANCE_FREQUENCY     PURCHASES  ONEOFF_PURCHASES  \\\n",
              "count   8950.000000        8950.000000   8950.000000       8950.000000   \n",
              "mean    1564.474828           0.877271   1003.204834        592.437371   \n",
              "std     2081.531879           0.236904   2136.634782       1659.887917   \n",
              "min        0.000000           0.000000      0.000000          0.000000   \n",
              "25%      128.281915           0.888889     39.635000          0.000000   \n",
              "50%      873.385231           1.000000    361.280000         38.000000   \n",
              "75%     2054.140036           1.000000   1110.130000        577.405000   \n",
              "max    19043.138560           1.000000  49039.570000      40761.250000   \n",
              "\n",
              "       INSTALLMENTS_PURCHASES  CASH_ADVANCE  PURCHASES_FREQUENCY  \\\n",
              "count             8950.000000   8950.000000          8950.000000   \n",
              "mean               411.067645    978.871112             0.490351   \n",
              "std                904.338115   2097.163877             0.401371   \n",
              "min                  0.000000      0.000000             0.000000   \n",
              "25%                  0.000000      0.000000             0.083333   \n",
              "50%                 89.000000      0.000000             0.500000   \n",
              "75%                468.637500   1113.821139             0.916667   \n",
              "max              22500.000000  47137.211760             1.000000   \n",
              "\n",
              "       ONEOFF_PURCHASES_FREQUENCY  PURCHASES_INSTALLMENTS_FREQUENCY  \\\n",
              "count                 8950.000000                       8950.000000   \n",
              "mean                     0.202458                          0.364437   \n",
              "std                      0.298336                          0.397448   \n",
              "min                      0.000000                          0.000000   \n",
              "25%                      0.000000                          0.000000   \n",
              "50%                      0.083333                          0.166667   \n",
              "75%                      0.300000                          0.750000   \n",
              "max                      1.000000                          1.000000   \n",
              "\n",
              "       CASH_ADVANCE_FREQUENCY  CASH_ADVANCE_TRX  PURCHASES_TRX  CREDIT_LIMIT  \\\n",
              "count             8950.000000       8950.000000    8950.000000   8949.000000   \n",
              "mean                 0.135144          3.248827      14.709832   4494.449450   \n",
              "std                  0.200121          6.824647      24.857649   3638.815725   \n",
              "min                  0.000000          0.000000       0.000000     50.000000   \n",
              "25%                  0.000000          0.000000       1.000000   1600.000000   \n",
              "50%                  0.000000          0.000000       7.000000   3000.000000   \n",
              "75%                  0.222222          4.000000      17.000000   6500.000000   \n",
              "max                  1.500000        123.000000     358.000000  30000.000000   \n",
              "\n",
              "           PAYMENTS  MINIMUM_PAYMENTS  PRC_FULL_PAYMENT       TENURE  \n",
              "count   8950.000000       8637.000000       8950.000000  8950.000000  \n",
              "mean    1733.143852        864.206542          0.153715    11.517318  \n",
              "std     2895.063757       2372.446607          0.292499     1.338331  \n",
              "min        0.000000          0.019163          0.000000     6.000000  \n",
              "25%      383.276166        169.123707          0.000000    12.000000  \n",
              "50%      856.901546        312.343947          0.000000    12.000000  \n",
              "75%     1901.134317        825.485459          0.142857    12.000000  \n",
              "max    50721.483360      76406.207520          1.000000    12.000000  "
            ],
            "text/html": [
              "\n",
              "  <div id=\"df-0af0e2b5-4e4f-4bc8-8a61-6ee5a4a8c87f\">\n",
              "    <div class=\"colab-df-container\">\n",
              "      <div>\n",
              "<style scoped>\n",
              "    .dataframe tbody tr th:only-of-type {\n",
              "        vertical-align: middle;\n",
              "    }\n",
              "\n",
              "    .dataframe tbody tr th {\n",
              "        vertical-align: top;\n",
              "    }\n",
              "\n",
              "    .dataframe thead th {\n",
              "        text-align: right;\n",
              "    }\n",
              "</style>\n",
              "<table border=\"1\" class=\"dataframe\">\n",
              "  <thead>\n",
              "    <tr style=\"text-align: right;\">\n",
              "      <th></th>\n",
              "      <th>BALANCE</th>\n",
              "      <th>BALANCE_FREQUENCY</th>\n",
              "      <th>PURCHASES</th>\n",
              "      <th>ONEOFF_PURCHASES</th>\n",
              "      <th>INSTALLMENTS_PURCHASES</th>\n",
              "      <th>CASH_ADVANCE</th>\n",
              "      <th>PURCHASES_FREQUENCY</th>\n",
              "      <th>ONEOFF_PURCHASES_FREQUENCY</th>\n",
              "      <th>PURCHASES_INSTALLMENTS_FREQUENCY</th>\n",
              "      <th>CASH_ADVANCE_FREQUENCY</th>\n",
              "      <th>CASH_ADVANCE_TRX</th>\n",
              "      <th>PURCHASES_TRX</th>\n",
              "      <th>CREDIT_LIMIT</th>\n",
              "      <th>PAYMENTS</th>\n",
              "      <th>MINIMUM_PAYMENTS</th>\n",
              "      <th>PRC_FULL_PAYMENT</th>\n",
              "      <th>TENURE</th>\n",
              "    </tr>\n",
              "  </thead>\n",
              "  <tbody>\n",
              "    <tr>\n",
              "      <th>count</th>\n",
              "      <td>8950.000000</td>\n",
              "      <td>8950.000000</td>\n",
              "      <td>8950.000000</td>\n",
              "      <td>8950.000000</td>\n",
              "      <td>8950.000000</td>\n",
              "      <td>8950.000000</td>\n",
              "      <td>8950.000000</td>\n",
              "      <td>8950.000000</td>\n",
              "      <td>8950.000000</td>\n",
              "      <td>8950.000000</td>\n",
              "      <td>8950.000000</td>\n",
              "      <td>8950.000000</td>\n",
              "      <td>8949.000000</td>\n",
              "      <td>8950.000000</td>\n",
              "      <td>8637.000000</td>\n",
              "      <td>8950.000000</td>\n",
              "      <td>8950.000000</td>\n",
              "    </tr>\n",
              "    <tr>\n",
              "      <th>mean</th>\n",
              "      <td>1564.474828</td>\n",
              "      <td>0.877271</td>\n",
              "      <td>1003.204834</td>\n",
              "      <td>592.437371</td>\n",
              "      <td>411.067645</td>\n",
              "      <td>978.871112</td>\n",
              "      <td>0.490351</td>\n",
              "      <td>0.202458</td>\n",
              "      <td>0.364437</td>\n",
              "      <td>0.135144</td>\n",
              "      <td>3.248827</td>\n",
              "      <td>14.709832</td>\n",
              "      <td>4494.449450</td>\n",
              "      <td>1733.143852</td>\n",
              "      <td>864.206542</td>\n",
              "      <td>0.153715</td>\n",
              "      <td>11.517318</td>\n",
              "    </tr>\n",
              "    <tr>\n",
              "      <th>std</th>\n",
              "      <td>2081.531879</td>\n",
              "      <td>0.236904</td>\n",
              "      <td>2136.634782</td>\n",
              "      <td>1659.887917</td>\n",
              "      <td>904.338115</td>\n",
              "      <td>2097.163877</td>\n",
              "      <td>0.401371</td>\n",
              "      <td>0.298336</td>\n",
              "      <td>0.397448</td>\n",
              "      <td>0.200121</td>\n",
              "      <td>6.824647</td>\n",
              "      <td>24.857649</td>\n",
              "      <td>3638.815725</td>\n",
              "      <td>2895.063757</td>\n",
              "      <td>2372.446607</td>\n",
              "      <td>0.292499</td>\n",
              "      <td>1.338331</td>\n",
              "    </tr>\n",
              "    <tr>\n",
              "      <th>min</th>\n",
              "      <td>0.000000</td>\n",
              "      <td>0.000000</td>\n",
              "      <td>0.000000</td>\n",
              "      <td>0.000000</td>\n",
              "      <td>0.000000</td>\n",
              "      <td>0.000000</td>\n",
              "      <td>0.000000</td>\n",
              "      <td>0.000000</td>\n",
              "      <td>0.000000</td>\n",
              "      <td>0.000000</td>\n",
              "      <td>0.000000</td>\n",
              "      <td>0.000000</td>\n",
              "      <td>50.000000</td>\n",
              "      <td>0.000000</td>\n",
              "      <td>0.019163</td>\n",
              "      <td>0.000000</td>\n",
              "      <td>6.000000</td>\n",
              "    </tr>\n",
              "    <tr>\n",
              "      <th>25%</th>\n",
              "      <td>128.281915</td>\n",
              "      <td>0.888889</td>\n",
              "      <td>39.635000</td>\n",
              "      <td>0.000000</td>\n",
              "      <td>0.000000</td>\n",
              "      <td>0.000000</td>\n",
              "      <td>0.083333</td>\n",
              "      <td>0.000000</td>\n",
              "      <td>0.000000</td>\n",
              "      <td>0.000000</td>\n",
              "      <td>0.000000</td>\n",
              "      <td>1.000000</td>\n",
              "      <td>1600.000000</td>\n",
              "      <td>383.276166</td>\n",
              "      <td>169.123707</td>\n",
              "      <td>0.000000</td>\n",
              "      <td>12.000000</td>\n",
              "    </tr>\n",
              "    <tr>\n",
              "      <th>50%</th>\n",
              "      <td>873.385231</td>\n",
              "      <td>1.000000</td>\n",
              "      <td>361.280000</td>\n",
              "      <td>38.000000</td>\n",
              "      <td>89.000000</td>\n",
              "      <td>0.000000</td>\n",
              "      <td>0.500000</td>\n",
              "      <td>0.083333</td>\n",
              "      <td>0.166667</td>\n",
              "      <td>0.000000</td>\n",
              "      <td>0.000000</td>\n",
              "      <td>7.000000</td>\n",
              "      <td>3000.000000</td>\n",
              "      <td>856.901546</td>\n",
              "      <td>312.343947</td>\n",
              "      <td>0.000000</td>\n",
              "      <td>12.000000</td>\n",
              "    </tr>\n",
              "    <tr>\n",
              "      <th>75%</th>\n",
              "      <td>2054.140036</td>\n",
              "      <td>1.000000</td>\n",
              "      <td>1110.130000</td>\n",
              "      <td>577.405000</td>\n",
              "      <td>468.637500</td>\n",
              "      <td>1113.821139</td>\n",
              "      <td>0.916667</td>\n",
              "      <td>0.300000</td>\n",
              "      <td>0.750000</td>\n",
              "      <td>0.222222</td>\n",
              "      <td>4.000000</td>\n",
              "      <td>17.000000</td>\n",
              "      <td>6500.000000</td>\n",
              "      <td>1901.134317</td>\n",
              "      <td>825.485459</td>\n",
              "      <td>0.142857</td>\n",
              "      <td>12.000000</td>\n",
              "    </tr>\n",
              "    <tr>\n",
              "      <th>max</th>\n",
              "      <td>19043.138560</td>\n",
              "      <td>1.000000</td>\n",
              "      <td>49039.570000</td>\n",
              "      <td>40761.250000</td>\n",
              "      <td>22500.000000</td>\n",
              "      <td>47137.211760</td>\n",
              "      <td>1.000000</td>\n",
              "      <td>1.000000</td>\n",
              "      <td>1.000000</td>\n",
              "      <td>1.500000</td>\n",
              "      <td>123.000000</td>\n",
              "      <td>358.000000</td>\n",
              "      <td>30000.000000</td>\n",
              "      <td>50721.483360</td>\n",
              "      <td>76406.207520</td>\n",
              "      <td>1.000000</td>\n",
              "      <td>12.000000</td>\n",
              "    </tr>\n",
              "  </tbody>\n",
              "</table>\n",
              "</div>\n",
              "      <button class=\"colab-df-convert\" onclick=\"convertToInteractive('df-0af0e2b5-4e4f-4bc8-8a61-6ee5a4a8c87f')\"\n",
              "              title=\"Convert this dataframe to an interactive table.\"\n",
              "              style=\"display:none;\">\n",
              "        \n",
              "  <svg xmlns=\"http://www.w3.org/2000/svg\" height=\"24px\"viewBox=\"0 0 24 24\"\n",
              "       width=\"24px\">\n",
              "    <path d=\"M0 0h24v24H0V0z\" fill=\"none\"/>\n",
              "    <path d=\"M18.56 5.44l.94 2.06.94-2.06 2.06-.94-2.06-.94-.94-2.06-.94 2.06-2.06.94zm-11 1L8.5 8.5l.94-2.06 2.06-.94-2.06-.94L8.5 2.5l-.94 2.06-2.06.94zm10 10l.94 2.06.94-2.06 2.06-.94-2.06-.94-.94-2.06-.94 2.06-2.06.94z\"/><path d=\"M17.41 7.96l-1.37-1.37c-.4-.4-.92-.59-1.43-.59-.52 0-1.04.2-1.43.59L10.3 9.45l-7.72 7.72c-.78.78-.78 2.05 0 2.83L4 21.41c.39.39.9.59 1.41.59.51 0 1.02-.2 1.41-.59l7.78-7.78 2.81-2.81c.8-.78.8-2.07 0-2.86zM5.41 20L4 18.59l7.72-7.72 1.47 1.35L5.41 20z\"/>\n",
              "  </svg>\n",
              "      </button>\n",
              "      \n",
              "  <style>\n",
              "    .colab-df-container {\n",
              "      display:flex;\n",
              "      flex-wrap:wrap;\n",
              "      gap: 12px;\n",
              "    }\n",
              "\n",
              "    .colab-df-convert {\n",
              "      background-color: #E8F0FE;\n",
              "      border: none;\n",
              "      border-radius: 50%;\n",
              "      cursor: pointer;\n",
              "      display: none;\n",
              "      fill: #1967D2;\n",
              "      height: 32px;\n",
              "      padding: 0 0 0 0;\n",
              "      width: 32px;\n",
              "    }\n",
              "\n",
              "    .colab-df-convert:hover {\n",
              "      background-color: #E2EBFA;\n",
              "      box-shadow: 0px 1px 2px rgba(60, 64, 67, 0.3), 0px 1px 3px 1px rgba(60, 64, 67, 0.15);\n",
              "      fill: #174EA6;\n",
              "    }\n",
              "\n",
              "    [theme=dark] .colab-df-convert {\n",
              "      background-color: #3B4455;\n",
              "      fill: #D2E3FC;\n",
              "    }\n",
              "\n",
              "    [theme=dark] .colab-df-convert:hover {\n",
              "      background-color: #434B5C;\n",
              "      box-shadow: 0px 1px 3px 1px rgba(0, 0, 0, 0.15);\n",
              "      filter: drop-shadow(0px 1px 2px rgba(0, 0, 0, 0.3));\n",
              "      fill: #FFFFFF;\n",
              "    }\n",
              "  </style>\n",
              "\n",
              "      <script>\n",
              "        const buttonEl =\n",
              "          document.querySelector('#df-0af0e2b5-4e4f-4bc8-8a61-6ee5a4a8c87f button.colab-df-convert');\n",
              "        buttonEl.style.display =\n",
              "          google.colab.kernel.accessAllowed ? 'block' : 'none';\n",
              "\n",
              "        async function convertToInteractive(key) {\n",
              "          const element = document.querySelector('#df-0af0e2b5-4e4f-4bc8-8a61-6ee5a4a8c87f');\n",
              "          const dataTable =\n",
              "            await google.colab.kernel.invokeFunction('convertToInteractive',\n",
              "                                                     [key], {});\n",
              "          if (!dataTable) return;\n",
              "\n",
              "          const docLinkHtml = 'Like what you see? Visit the ' +\n",
              "            '<a target=\"_blank\" href=https://colab.research.google.com/notebooks/data_table.ipynb>data table notebook</a>'\n",
              "            + ' to learn more about interactive tables.';\n",
              "          element.innerHTML = '';\n",
              "          dataTable['output_type'] = 'display_data';\n",
              "          await google.colab.output.renderOutput(dataTable, element);\n",
              "          const docLink = document.createElement('div');\n",
              "          docLink.innerHTML = docLinkHtml;\n",
              "          element.appendChild(docLink);\n",
              "        }\n",
              "      </script>\n",
              "    </div>\n",
              "  </div>\n",
              "  "
            ]
          },
          "metadata": {},
          "execution_count": 6
        }
      ]
    },
    {
      "cell_type": "code",
      "source": [
        "#결측치 확인\n",
        "df.isnull().sum()"
      ],
      "metadata": {
        "colab": {
          "base_uri": "https://localhost:8080/"
        },
        "id": "IsrCEVJSQuEj",
        "outputId": "9649c9f3-2a67-47be-92ec-7d757fc87666"
      },
      "execution_count": 7,
      "outputs": [
        {
          "output_type": "execute_result",
          "data": {
            "text/plain": [
              "CUST_ID                               0\n",
              "BALANCE                               0\n",
              "BALANCE_FREQUENCY                     0\n",
              "PURCHASES                             0\n",
              "ONEOFF_PURCHASES                      0\n",
              "INSTALLMENTS_PURCHASES                0\n",
              "CASH_ADVANCE                          0\n",
              "PURCHASES_FREQUENCY                   0\n",
              "ONEOFF_PURCHASES_FREQUENCY            0\n",
              "PURCHASES_INSTALLMENTS_FREQUENCY      0\n",
              "CASH_ADVANCE_FREQUENCY                0\n",
              "CASH_ADVANCE_TRX                      0\n",
              "PURCHASES_TRX                         0\n",
              "CREDIT_LIMIT                          1\n",
              "PAYMENTS                              0\n",
              "MINIMUM_PAYMENTS                    313\n",
              "PRC_FULL_PAYMENT                      0\n",
              "TENURE                                0\n",
              "dtype: int64"
            ]
          },
          "metadata": {},
          "execution_count": 7
        }
      ]
    },
    {
      "cell_type": "code",
      "source": [
        "#CREDIT_LIMIT 부분 결측치 단 한 개 -> 확인해보자"
      ],
      "metadata": {
        "id": "sHkAfD3VQy2_"
      },
      "execution_count": 8,
      "outputs": []
    },
    {
      "cell_type": "code",
      "source": [
        "df[\"CREDIT_LIMIT\"].describe()"
      ],
      "metadata": {
        "colab": {
          "base_uri": "https://localhost:8080/"
        },
        "id": "TB0-fZ8ITkF3",
        "outputId": "be1382a6-66a5-4392-f681-d98b408218d5"
      },
      "execution_count": 9,
      "outputs": [
        {
          "output_type": "execute_result",
          "data": {
            "text/plain": [
              "count     8949.000000\n",
              "mean      4494.449450\n",
              "std       3638.815725\n",
              "min         50.000000\n",
              "25%       1600.000000\n",
              "50%       3000.000000\n",
              "75%       6500.000000\n",
              "max      30000.000000\n",
              "Name: CREDIT_LIMIT, dtype: float64"
            ]
          },
          "metadata": {},
          "execution_count": 9
        }
      ]
    },
    {
      "cell_type": "code",
      "source": [
        "#최대 최소간 차이가 생각보다 크다. 시각화로 확인\n",
        "sns.boxplot(y = \"CREDIT_LIMIT\", data = df)\n",
        "# 이상치가 많은 걸 봐서는 평균 같은 건 결측치를 대표하지 못할듯. 그럼 최빈값으로 대체하자"
      ],
      "metadata": {
        "colab": {
          "base_uri": "https://localhost:8080/",
          "height": 0
        },
        "id": "jp2a_3mCTsER",
        "outputId": "b5b7eb6e-b751-46c6-ac4d-514fe35a29a0"
      },
      "execution_count": 10,
      "outputs": [
        {
          "output_type": "execute_result",
          "data": {
            "text/plain": [
              "<AxesSubplot:ylabel='CREDIT_LIMIT'>"
            ]
          },
          "metadata": {},
          "execution_count": 10
        },
        {
          "output_type": "display_data",
          "data": {
            "text/plain": [
              "<Figure size 432x288 with 1 Axes>"
            ],
            "image/png": "[encoded data removed]"
          },
          "metadata": {
            "needs_background": "light"
          }
        }
      ]
    },
    {
      "cell_type": "code",
      "source": [
        "df[\"CREDIT_LIMIT\"].mode()"
      ],
      "metadata": {
        "colab": {
          "base_uri": "https://localhost:8080/"
        },
        "id": "hE61rCZTVtDl",
        "outputId": "0214bb71-6dc4-4b7d-9208-19589ae68554"
      },
      "execution_count": 11,
      "outputs": [
        {
          "output_type": "execute_result",
          "data": {
            "text/plain": [
              "0    3000.0\n",
              "dtype: float64"
            ]
          },
          "metadata": {},
          "execution_count": 11
        }
      ]
    },
    {
      "cell_type": "code",
      "source": [
        "df[\"CREDIT_LIMIT\"] = df[\"CREDIT_LIMIT\"].fillna(df[\"CREDIT_LIMIT\"].mode().iloc[0])"
      ],
      "metadata": {
        "id": "GMY8oh88UYs0"
      },
      "execution_count": 12,
      "outputs": []
    },
    {
      "cell_type": "code",
      "source": [
        "#MINIMUM_PAYMENTS 해결\n",
        "#개수가 313개나 된다. 시각화를 해보자.\n",
        "sns.histplot(x = \"MINIMUM_PAYMENTS\", data = df)\n",
        "plt.show()\n",
        "#이친구 역시도 최빈값을 이용하는 편이 좋을 것 같다."
      ],
      "metadata": {
        "colab": {
          "base_uri": "https://localhost:8080/",
          "height": 0
        },
        "id": "wgCpdCkaVE8m",
        "outputId": "4be99b2a-f980-430c-b460-adb30afe5548"
      },
      "execution_count": 13,
      "outputs": [
        {
          "output_type": "display_data",
          "data": {
            "text/plain": [
              "<Figure size 432x288 with 1 Axes>"
            ],
            "image/png": "[encoded data removed]"
          },
          "metadata": {
            "needs_background": "light"
          }
        }
      ]
    },
    {
      "cell_type": "code",
      "source": [
        "#그래도 한번 더 시각화\n",
        "sns.boxplot(y = 'MINIMUM_PAYMENTS', data = df)\n",
        "#역시 최빈값으로 대체하는 게 맞겠다."
      ],
      "metadata": {
        "colab": {
          "base_uri": "https://localhost:8080/",
          "height": 0
        },
        "id": "jXUBvVdSWkup",
        "outputId": "779da078-1d51-4f9f-8126-9ef04138f896"
      },
      "execution_count": 14,
      "outputs": [
        {
          "output_type": "execute_result",
          "data": {
            "text/plain": [
              "<AxesSubplot:ylabel='MINIMUM_PAYMENTS'>"
            ]
          },
          "metadata": {},
          "execution_count": 14
        },
        {
          "output_type": "display_data",
          "data": {
            "text/plain": [
              "<Figure size 432x288 with 1 Axes>"
            ],
            "image/png": "[encoded data removed]"
          },
          "metadata": {
            "needs_background": "light"
          }
        }
      ]
    },
    {
      "cell_type": "code",
      "source": [
        "df[\"MINIMUM_PAYMENTS\"] = df[\"MINIMUM_PAYMENTS\"].fillna(df[\"MINIMUM_PAYMENTS\"].mode().iloc[0])"
      ],
      "metadata": {
        "id": "MznbL9YyWs4N"
      },
      "execution_count": 15,
      "outputs": []
    },
    {
      "cell_type": "code",
      "source": [
        "df.isnull().sum() #처리 끝."
      ],
      "metadata": {
        "colab": {
          "base_uri": "https://localhost:8080/"
        },
        "id": "L_5mL1jfWy6Q",
        "outputId": "78f0f9c3-0251-486c-efcf-46bcb4efcd43"
      },
      "execution_count": 16,
      "outputs": [
        {
          "output_type": "execute_result",
          "data": {
            "text/plain": [
              "CUST_ID                             0\n",
              "BALANCE                             0\n",
              "BALANCE_FREQUENCY                   0\n",
              "PURCHASES                           0\n",
              "ONEOFF_PURCHASES                    0\n",
              "INSTALLMENTS_PURCHASES              0\n",
              "CASH_ADVANCE                        0\n",
              "PURCHASES_FREQUENCY                 0\n",
              "ONEOFF_PURCHASES_FREQUENCY          0\n",
              "PURCHASES_INSTALLMENTS_FREQUENCY    0\n",
              "CASH_ADVANCE_FREQUENCY              0\n",
              "CASH_ADVANCE_TRX                    0\n",
              "PURCHASES_TRX                       0\n",
              "CREDIT_LIMIT                        0\n",
              "PAYMENTS                            0\n",
              "MINIMUM_PAYMENTS                    0\n",
              "PRC_FULL_PAYMENT                    0\n",
              "TENURE                              0\n",
              "dtype: int64"
            ]
          },
          "metadata": {},
          "execution_count": 16
        }
      ]
    },
    {
      "cell_type": "markdown",
      "source": [
        "# 3. 상관관계를 히트맵으로 그리고 높은 상관관계를 보이는 변수들을 찾아라."
      ],
      "metadata": {
        "id": "ndzl0POHdPjx"
      }
    },
    {
      "cell_type": "code",
      "source": [
        "corr_df = df.corr()"
      ],
      "metadata": {
        "id": "fnabNKjDXFZo"
      },
      "execution_count": 17,
      "outputs": []
    },
    {
      "cell_type": "code",
      "source": [
        "\"\"\"\n",
        "절댓값 0.5 이상인 것 기준으로 찾기\n",
        "balance-cash advance\n",
        "balance-credit limit\n",
        "purchases - oneoff-purchases 0.92!!!.\n",
        "purchases - installments-purchases\n",
        "purchases - oneoff purchases frequency\n",
        "purchases - purchases-trx\n",
        "purchases - payments\n",
        "oneoff purchases - oneoff purchases frequency\n",
        "oneoff purchases - purchases-trx\n",
        "oneoff purchases - payments\n",
        "installments purchases - purchases installments frequency\n",
        "installments purchases - purchases trx\n",
        "cash advance - cash advance frequency\n",
        "cash advance - cash advance trx\n",
        "purchases frequency - oneoff purchases frequency\n",
        "purchases frequency - purchases installments frequency 0.86!!\n",
        "purchases frequecny - purchases trx\n",
        "oneoff purchases frequency - purchases trx\n",
        "purchasements install frequency - purchases trx\n",
        "cash advance frequency - cash advance trx\n",
        "\"\"\""
      ],
      "metadata": {
        "id": "Jx8J1j49Y9Ko",
        "colab": {
          "base_uri": "https://localhost:8080/",
          "height": 0
        },
        "outputId": "301b0c7f-cc30-4fd4-eb00-326a70b4345e"
      },
      "execution_count": 18,
      "outputs": [
        {
          "output_type": "execute_result",
          "data": {
            "text/plain": [
              "'\\n절댓값 0.5 이상인 것 기준으로 찾기\\nbalance-cash advance\\nbalance-credit limit\\npurchases - oneoff-purchases 0.92!!!.\\npurchases - installments-purchases\\npurchases - oneoff purchases frequency\\npurchases - purchases-trx\\npurchases - payments\\noneoff purchases - oneoff purchases frequency\\noneoff purchases - purchases-trx\\noneoff purchases - payments\\ninstallments purchases - purchases installments frequency\\ninstallments purchases - purchases trx\\ncash advance - cash advance frequency\\ncash advance - cash advance trx\\npurchases frequency - oneoff purchases frequency\\npurchases frequency - purchases installments frequency 0.86!!\\npurchases frequecny - purchases trx\\noneoff purchases frequency - purchases trx\\npurchasements install frequency - purchases trx\\ncash advance frequency - cash advance trx\\n'"
            ],
            "application/vnd.google.colaboratory.intrinsic+json": {
              "type": "string"
            }
          },
          "metadata": {},
          "execution_count": 18
        }
      ]
    },
    {
      "cell_type": "code",
      "source": [
        "ax = plt.figure(figsize = (18, 18))\n",
        "sns.heatmap(corr_df, annot = True, annot_kws = {'size':10})\n",
        "plt.show()"
      ],
      "metadata": {
        "colab": {
          "base_uri": "https://localhost:8080/",
          "height": 0
        },
        "id": "aY63aN2_XLhW",
        "outputId": "f9e4acbf-1c20-4806-9481-e77d49e64f2f"
      },
      "execution_count": 19,
      "outputs": [
        {
          "output_type": "display_data",
          "data": {
            "text/plain": [
              "<Figure size 1296x1296 with 2 Axes>"
            ],
            "image/png": "[encoded data removed]"
          },
          "metadata": {
            "needs_background": "light"
          }
        }
      ]
    },
    {
      "cell_type": "markdown",
      "source": [
        "# 4. 3가지의 각기 다른 인사이트를 담은 시각화를 수행하라."
      ],
      "metadata": {
        "id": "m0fgb-bhccJw"
      }
    },
    {
      "cell_type": "code",
      "source": [
        "# 1. 자주 결제하는 사람일수록 한번에 결제하는 양이 적을 것이다. --> 편차가 크지만 생각보다 결제를 자주하면 한번에 결제하는 금액도 높다"
      ],
      "metadata": {
        "id": "dnC2bVMzeFDL"
      },
      "execution_count": 20,
      "outputs": []
    },
    {
      "cell_type": "code",
      "source": [
        "sns.lineplot(x = 'PURCHASES_FREQUENCY', y = 'ONEOFF_PURCHASES', data = df)\n",
        "plt.show()"
      ],
      "metadata": {
        "colab": {
          "base_uri": "https://localhost:8080/",
          "height": 0
        },
        "id": "FGx3_co1Xprk",
        "outputId": "4ba657ea-6c63-4c16-9950-74ac648a0030"
      },
      "execution_count": 27,
      "outputs": [
        {
          "output_type": "display_data",
          "data": {
            "text/plain": [
              "<Figure size 432x288 with 1 Axes>"
            ],
            "image/png": "[encoded data removed]"
          },
          "metadata": {
            "needs_background": "light"
          }
        }
      ]
    },
    {
      "cell_type": "code",
      "source": [
        "# 2. 신용카드 limit 이 고액인 사람일 수록 소비를 더 쉽게 한다 - 많은 금액 사용 --> 편차가 크지만 그런 경향이 실제로 있다."
      ],
      "metadata": {
        "id": "j1wYiQ7SeFTH"
      },
      "execution_count": 28,
      "outputs": []
    },
    {
      "cell_type": "code",
      "source": [
        "sns.lineplot(x = 'CREDIT_LIMIT', y = 'PURCHASES', data = df)\n",
        "plt.show()"
      ],
      "metadata": {
        "id": "P_Dkd8DceFiw",
        "colab": {
          "base_uri": "https://localhost:8080/",
          "height": 0
        },
        "outputId": "637850af-a81c-445a-870b-4e3a8270ba53"
      },
      "execution_count": 31,
      "outputs": [
        {
          "output_type": "display_data",
          "data": {
            "text/plain": [
              "<Figure size 432x288 with 1 Axes>"
            ],
            "image/png": "[encoded data removed]"
          },
          "metadata": {
            "needs_background": "light"
          }
        }
      ]
    },
    {
      "cell_type": "code",
      "source": [
        "# 3. 분할결제를 자주 하는 사람은 분할결제하는 양이 많을 것이다. --> 아주 살짝 그렇긴 하지만 변화가 크지 않다. 빈도가 0.8일때에서 편차가 좀 보인다."
      ],
      "metadata": {
        "id": "y86GCMjsbamZ"
      },
      "execution_count": null,
      "outputs": []
    },
    {
      "cell_type": "code",
      "source": [
        "sns.lineplot(x = 'ONEOFF_PURCHASES_FREQUENCY', y = 'INSTALLMENTS_PURCHASES', data = df)\n",
        "plt.show()"
      ],
      "metadata": {
        "colab": {
          "base_uri": "https://localhost:8080/",
          "height": 0
        },
        "id": "wiG-is2-bngl",
        "outputId": "b5f05ce2-7e5e-4b96-ffaa-071572a220f2"
      },
      "execution_count": 41,
      "outputs": [
        {
          "output_type": "display_data",
          "data": {
            "text/plain": [
              "<Figure size 432x288 with 1 Axes>"
            ],
            "image/png": "[encoded data removed]"
          },
          "metadata": {
            "needs_background": "light"
          }
        }
      ]
    },
    {
      "cell_type": "markdown",
      "source": [
        "# 5. PCA를 활용해 차원 축소를 해 보아라. 단, n_components가 5인 경우, 10인 경우, 15인 경우를 비교하고 분산비의 차원에서 몇 개의 components를 사용하는 것이 가장 합리적인지 제안하고 그 근거를 제시하라."
      ],
      "metadata": {
        "id": "r4WQxZMNdPdt"
      }
    },
    {
      "cell_type": "code",
      "source": [
        "#일단 object column 제거를 하자.\n",
        "df = df.drop([\"CUST_ID\"], axis = 1)"
      ],
      "metadata": {
        "id": "5To1GQachmjY"
      },
      "execution_count": null,
      "outputs": []
    },
    {
      "cell_type": "code",
      "source": [
        "from sklearn.linear_model import LinearRegression \n",
        "from sklearn.model_selection import train_test_split\n",
        "from sklearn.metrics import r2_score\n",
        "from sklearn.preprocessing import StandardScaler\n",
        "from sklearn.decomposition import PCA"
      ],
      "metadata": {
        "id": "TAqdaCiwhQFW"
      },
      "execution_count": null,
      "outputs": []
    },
    {
      "cell_type": "code",
      "source": [
        "Scaler = StandardScaler()\n",
        "df_scaled = Scaler.fit_transform(df)\n",
        "df_scaled"
      ],
      "metadata": {
        "colab": {
          "base_uri": "https://localhost:8080/"
        },
        "id": "7ZfAOVBehQAT",
        "outputId": "4ed35493-35d7-4d3a-fe27-939f640b7b57"
      },
      "execution_count": null,
      "outputs": [
        {
          "output_type": "execute_result",
          "data": {
            "text/plain": [
              "array([[-0.73198937, -0.24943448, -0.42489974, ..., -0.30219162,\n",
              "        -0.52555097,  0.36067954],\n",
              "       [ 0.78696085,  0.13432467, -0.46955188, ...,  0.09768992,\n",
              "         0.2342269 ,  0.36067954],\n",
              "       [ 0.44713513,  0.51808382, -0.10766823, ..., -0.09309443,\n",
              "        -0.52555097,  0.36067954],\n",
              "       ...,\n",
              "       [-0.7403981 , -0.18547673, -0.40196519, ..., -0.32666531,\n",
              "         0.32919999, -4.12276757],\n",
              "       [-0.74517423, -0.18547673, -0.46955188, ..., -0.33809497,\n",
              "         0.32919999, -4.12276757],\n",
              "       [-0.57257511, -0.88903307,  0.04214581, ..., -0.32414873,\n",
              "        -0.52555097, -4.12276757]])"
            ]
          },
          "metadata": {},
          "execution_count": 52
        }
      ]
    },
    {
      "cell_type": "code",
      "source": [
        "for i in [5, 10, 15]: \n",
        "  df_scaled = Scaler.fit_transform(df)\n",
        "  pca = PCA(n_components = i) \n",
        "  pca.fit(df_scaled)\n",
        "  df_pca = pca.transform(df_scaled)\n",
        "  print(i, \"개의 components로 분석한 분산비 : \", pca.explained_variance_ratio_)"
      ],
      "metadata": {
        "colab": {
          "base_uri": "https://localhost:8080/"
        },
        "id": "qM7LZ5QUhyPY",
        "outputId": "3bda8eea-868d-4f85-c85b-2d18bfc52507"
      },
      "execution_count": null,
      "outputs": [
        {
          "output_type": "stream",
          "name": "stdout",
          "text": [
            "5 개의 components로 분석한 분산비 :  [0.27297845 0.20314038 0.0881369  0.07479505 0.06223863]\n",
            "10 개의 components로 분석한 분산비 :  [0.27297845 0.20314038 0.0881369  0.07479505 0.06223864 0.0573979\n",
            " 0.04883349 0.04300227 0.03797499 0.03080003]\n",
            "15 개의 components로 분석한 분산비 :  [0.27297845 0.20314038 0.0881369  0.07479505 0.06223864 0.0573979\n",
            " 0.04883349 0.04300227 0.03797499 0.03080003 0.02372259 0.01773367\n",
            " 0.01427893 0.01216909 0.0101266 ]\n"
          ]
        }
      ]
    },
    {
      "cell_type": "code",
      "source": [
        "print(\"5개일 때: \", 0.27297845 + 0.20314038 + 0.0881369 + 0.07479505 + 0.06223863)\n",
        "print(\"10개일 때: \", 0.27297845+0.20314038+0.0881369 + 0.07479505+ 0.06223864 +0.0573979+ 0.04883349+ 0.04300227+ 0.03797499 +0.03080003)\n",
        "print(\"15개일 때: \", 0.27297845 + 0.20314038+ 0.0881369+  0.07479505 +0.06223864 +0.0573979+ 0.04883349+0.04300227+ 0.03797499 +0.03080003+ 0.02372259+0.01773367+ 0.01427893+ 0.01216909 +0.0101266)"
      ],
      "metadata": {
        "colab": {
          "base_uri": "https://localhost:8080/"
        },
        "id": "nEPCE7HjiUJJ",
        "outputId": "67c0d63e-1f0d-4907-978c-8069c2373a30"
      },
      "execution_count": null,
      "outputs": [
        {
          "output_type": "stream",
          "name": "stdout",
          "text": [
            "5개일 때:  0.7012894099999999\n",
            "10개일 때:  0.9192981\n",
            "15개일 때:  0.99732898\n"
          ]
        }
      ]
    },
    {
      "cell_type": "code",
      "source": [
        "#15개일 때 손실률이 가장 적으므로 15개의 component를 사용하는 것이 합리적이다."
      ],
      "metadata": {
        "id": "NXNjRDKAi0Ia"
      },
      "execution_count": null,
      "outputs": []
    },
    {
      "cell_type": "markdown",
      "source": [
        "# 6. 5번의 결과로 PCA된 데이터에 Kmeans Clustering을 해보고 Silhouette score를 활용해 최적의 K를 정하라."
      ],
      "metadata": {
        "id": "DdZW36sIgSMU"
      }
    },
    {
      "cell_type": "code",
      "source": [
        "from sklearn.preprocessing import scale\n",
        "from sklearn.metrics import silhouette_score\n",
        "from sklearn.cluster import KMeans"
      ],
      "metadata": {
        "id": "xrFaXNo0i6-Z"
      },
      "execution_count": null,
      "outputs": []
    },
    {
      "cell_type": "code",
      "source": [
        "df_scaled = Scaler.fit_transform(df)\n",
        "pca = PCA(n_components = 15) \n",
        "pca.fit(df_scaled)\n",
        "df_pca = pca.transform(df_scaled)"
      ],
      "metadata": {
        "id": "VHtoRY3RjI7B"
      },
      "execution_count": null,
      "outputs": []
    },
    {
      "cell_type": "code",
      "source": [
        "for i in range(2, 16):\n",
        "  kmeans = KMeans(n_clusters = i, init = \"k-means++\", max_iter = 300, random_state = 144) \n",
        "  kmeans.fit(df_pca)\n",
        "  labels = kmeans.labels_\n",
        "  print(i, \"개 클러스터일 때의 실루엣 계수는: \", silhouette_score(df, labels, metric = \"euclidean\"))"
      ],
      "metadata": {
        "colab": {
          "base_uri": "https://localhost:8080/"
        },
        "id": "B2TVEQt7kCPz",
        "outputId": "601e8077-4866-490b-ab5e-1a2d8337aa45"
      },
      "execution_count": null,
      "outputs": [
        {
          "output_type": "stream",
          "name": "stdout",
          "text": [
            "2 개 클러스터일 때의 실루엣 계수는:  0.07704512399905607\n",
            "3 개 클러스터일 때의 실루엣 계수는:  0.341305335796574\n",
            "4 개 클러스터일 때의 실루엣 계수는:  0.043368244159560886\n",
            "5 개 클러스터일 때의 실루엣 계수는:  0.0008787539879403386\n",
            "6 개 클러스터일 때의 실루엣 계수는:  0.005269320436240243\n",
            "7 개 클러스터일 때의 실루엣 계수는:  -0.060784311814007376\n",
            "8 개 클러스터일 때의 실루엣 계수는:  -0.067115309433489\n",
            "9 개 클러스터일 때의 실루엣 계수는:  -0.053462768269686156\n",
            "10 개 클러스터일 때의 실루엣 계수는:  -0.042095027715090286\n",
            "11 개 클러스터일 때의 실루엣 계수는:  -0.05496291222536598\n",
            "12 개 클러스터일 때의 실루엣 계수는:  -0.06266427808241917\n",
            "13 개 클러스터일 때의 실루엣 계수는:  -0.0594209243494076\n",
            "14 개 클러스터일 때의 실루엣 계수는:  -0.06531473678454609\n",
            "15 개 클러스터일 때의 실루엣 계수는:  -0.05951581879048532\n"
          ]
        }
      ]
    },
    {
      "cell_type": "code",
      "source": [
        "#실루엣 계수가 1에 가까울 수록 좋은 것이므로, K=3인 것이 가장 적절하다."
      ],
      "metadata": {
        "id": "KaRrY7S9qRPv"
      },
      "execution_count": null,
      "outputs": []
    }
  ]
}